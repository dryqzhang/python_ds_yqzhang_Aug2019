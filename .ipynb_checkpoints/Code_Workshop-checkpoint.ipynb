{
 "cells": [
  {
   "cell_type": "markdown",
   "metadata": {},
   "source": [
    "# 课程目标：在python环境下对临床资料进行整理\n",
    "\n",
    "## 步骤\n",
    "    1.读取：HIS和LIS数据\n",
    "    2.整理：\n",
    "    3.数据描述\n",
    "    4.统计分析\n",
    "    5.bonus：机器学习"
   ]
  },
  {
   "cell_type": "code",
   "execution_count": null,
   "metadata": {},
   "outputs": [],
   "source": [
    "#准备工作：导入模块/软件库\n",
    "\n",
    "import numpy as np # 主要用于科学计算，可生成homogeneous数据，本例中用其生成易于展示图形，统计分析的数据\n",
    "import pandas as pd # 用于导入数据，这些数据多为heterogeneous，是我们日常数据的主要形式\n",
    "import matplotlib #matplotlib用于作图\n",
    "import matplotlib.pyplot as plt\n",
    "import seaborn as sns #seaborn用于高级制图，尤其是统计学用到的\n",
    "from scipy import stats # 用于统计分析\n",
    "import statsmodels.api as sm # 用于统计分析\n",
    "import statsmodels.formula.api as smf # 用于统计分析\n",
    "from datetime import datetime, date, time, timedelta #用于时间日期相关"
   ]
  },
  {
   "cell_type": "code",
   "execution_count": null,
   "metadata": {},
   "outputs": [],
   "source": [
    "# 设置显示参数，matplotlib 统一使用inline\n",
    "%matplotlib inline"
   ]
  },
  {
   "cell_type": "code",
   "execution_count": null,
   "metadata": {},
   "outputs": [],
   "source": [
    "# pandas display option，调整显示r*w数\n",
    "pd.set_option(\"display.max_rows\", 20)\n",
    "pd.set_option(\"display.max_columns\", 20)"
   ]
  },
  {
   "cell_type": "markdown",
   "metadata": {},
   "source": [
    "# 1. 读取并查看数据\n",
    "    1.1 HIS数据，神经内科2013年12月至2019年6月份出院患者病历首页部分数据\n",
    "    1.2 LIS数据，神经内科部分腰穿脑脊液数据（常规，生化部分项目）\n",
    "            NS:患者姓名，身份证等信息已被移除\n",
    "    1.3 使用info(),head(),tail()等查看数据"
   ]
  },
  {
   "cell_type": "code",
   "execution_count": null,
   "metadata": {},
   "outputs": [],
   "source": [
    "# when missing=False, you got NaN\n",
    "# HIS data\n",
    "discharge = pd.read_excel('/Users/yqzhang/Desktop/Meeting/20190808_CGME_Python/Neuro_Discharged.xls', \n",
    "                    convert_missing=False) \n",
    "\n",
    "csf = pd.read_csv('/Users/yqzhang/Desktop/Meeting/20190808_CGME_Python/csf.csv') "
   ]
  },
  {
   "cell_type": "code",
   "execution_count": null,
   "metadata": {},
   "outputs": [],
   "source": [
    "# 备用方案01 window，r'C:\\users etc\n",
    "# 网络存放数据库"
   ]
  },
  {
   "cell_type": "code",
   "execution_count": null,
   "metadata": {},
   "outputs": [],
   "source": [
    "discharge.head()"
   ]
  },
  {
   "cell_type": "markdown",
   "metadata": {},
   "source": [
    "# 2. 整理数据(will occupy your 80% workload)\n",
    "    以discharge数据为例，csf is available for analysis(wide table)\n",
    "    2.1 删除不需要的observations(rows), variables(columns)\n",
    "    2.2 修改variable name（字母简写）\n",
    "    2.3 分裂数据\n",
    "    2.4 合并数据（两表merge）"
   ]
  },
  {
   "cell_type": "markdown",
   "metadata": {},
   "source": [
    "## 2.1 drop observations(rows) or variables(columns)"
   ]
  },
  {
   "cell_type": "code",
   "execution_count": null,
   "metadata": {},
   "outputs": [],
   "source": [
    "# 删除变量’出院科室‘\n",
    "discharge.drop(columns='出院科室', inplace=True)"
   ]
  },
  {
   "cell_type": "code",
   "execution_count": null,
   "metadata": {},
   "outputs": [],
   "source": [
    "## 修改变量名，单个修改：df.rename(columns = {'sex':'Sex'})\n",
    "discharge.columns=['IPD_ID', 'age', 'adm_site', 'diag_type', 'ICD',\n",
    "             'diagnosis', 'adm_DT', 'dis_DT', 'stay_days', 'nondrug_fee', 'drug_fee']"
   ]
  },
  {
   "cell_type": "markdown",
   "metadata": {},
   "source": [
    "## 2.3 分成两个表格，一个服务于我们查看卫生经济学，一个服务于临床诊断"
   ]
  },
  {
   "cell_type": "code",
   "execution_count": null,
   "metadata": {},
   "outputs": [],
   "source": [
    "# 卫生经济学表格, drop columns\n",
    "dis_he = discharge[discharge.diag_type=='主要诊断'].reset_index(drop=True)"
   ]
  },
  {
   "cell_type": "code",
   "execution_count": null,
   "metadata": {},
   "outputs": [],
   "source": [
    "# 讲 adm_site 进行划分\n",
    "dis_he['adm_site'] = dis_he['adm_site'].apply({'门诊':'OPD', '其他':'OPD', '其他医疗机构转入':'OPD', '急诊':'ER'}.get)"
   ]
  },
  {
   "cell_type": "code",
   "execution_count": null,
   "metadata": {},
   "outputs": [],
   "source": [
    "# drop observation if stay_days>30\n",
    "dis_he = dis_he[dis_he.stay_days < 30]"
   ]
  },
  {
   "cell_type": "code",
   "execution_count": null,
   "metadata": {},
   "outputs": [],
   "source": [
    "# 临床诊断表格, drop variables\n",
    "dis_cd = discharge.drop(columns=['adm_site', 'age', 'adm_DT', 'dis_DT', 'stay_days', 'nondrug_fee', 'drug_fee'])"
   ]
  },
  {
   "cell_type": "code",
   "execution_count": null,
   "metadata": {},
   "outputs": [],
   "source": [
    "dis_cd = dis_cd[dis_cd.ICD.isna()==False]"
   ]
  },
  {
   "cell_type": "code",
   "execution_count": null,
   "metadata": {},
   "outputs": [],
   "source": [
    "dis_cd.set_index(['IPD_ID', 'diag_type']).head()"
   ]
  },
  {
   "cell_type": "markdown",
   "metadata": {},
   "source": [
    "### 2.4 将临床诊断表格与脑脊液表格 合并"
   ]
  },
  {
   "cell_type": "code",
   "execution_count": null,
   "metadata": {},
   "outputs": [],
   "source": [
    "# merge tables of dis_cd & csf\n",
    "csf_cd = csf.merge(dis_cd, on='IPD_ID', how='inner')"
   ]
  },
  {
   "cell_type": "code",
   "execution_count": null,
   "metadata": {},
   "outputs": [],
   "source": [
    "# 显示可能为 炎性周围神经病的病例\n",
    "csf_cd[csf_cd.ICD.str.contains('G6')]"
   ]
  },
  {
   "cell_type": "code",
   "execution_count": null,
   "metadata": {},
   "outputs": [],
   "source": [
    "# 显示可能为 颅内感染的病例\n",
    "csf_cd[csf_cd.ICD.str.contains('A')]"
   ]
  },
  {
   "cell_type": "code",
   "execution_count": null,
   "metadata": {},
   "outputs": [],
   "source": [
    "# drop tp值过大的observations(正常值 15-45g/dl，>3g)\n",
    "csf_cd = csf_cd[csf_cd.csf_tp < 300]"
   ]
  },
  {
   "cell_type": "markdown",
   "metadata": {},
   "source": [
    "# 我们最终有了两个表\n",
    "    1. dis_he：用于health economic分析\n",
    "    2. csf_cd：用于csf检验结果与诊断关系分析"
   ]
  },
  {
   "cell_type": "code",
   "execution_count": null,
   "metadata": {},
   "outputs": [],
   "source": [
    "csf_cd.info()"
   ]
  },
  {
   "cell_type": "markdown",
   "metadata": {},
   "source": [
    "# 3. 数据描述 + plotting\n",
    "    3.1 单一数据\n",
    "        3.1.1 均值 mean\n",
    "        3.1.2 方差 variance\n",
    "        3.1.3 标准差 standard deviation\n",
    "    3.2 多个数据"
   ]
  },
  {
   "cell_type": "markdown",
   "metadata": {},
   "source": [
    "### 3.1.1 mean\n",
    "    离散变量平均数的数学公式: $$\\mu=\\frac{\\sum\\limits_{i=1}^{n}x_i}{N}$$"
   ]
  },
  {
   "cell_type": "markdown",
   "metadata": {},
   "source": [
    "$$\\mu=\\frac{\\sum\\limits_{i=1}^{n}x_i}{N}$$"
   ]
  },
  {
   "cell_type": "code",
   "execution_count": null,
   "metadata": {},
   "outputs": [],
   "source": [
    "data = csf_cd[csf_cd['csf_tp'].isna()==False][['csf_tp']]\n",
    "fig, ax = plt.subplots(figsize = (15, 6))\n",
    "_ = sns.distplot(data)"
   ]
  },
  {
   "cell_type": "code",
   "execution_count": null,
   "metadata": {},
   "outputs": [],
   "source": [
    "csf_cd['csf_tp'].mean()"
   ]
  },
  {
   "cell_type": "markdown",
   "metadata": {},
   "source": [
    "### 3.2 variance\n",
    "    方差的数学公式(population) $$ \\sigma^2=\\frac{1}{N}\\sum\\limits_{i=1}^{n} (x_i-\\mu)^2  $$"
   ]
  },
  {
   "cell_type": "markdown",
   "metadata": {},
   "source": [
    "$$ \\sigma^2=\\frac{1}{N}\\sum\\limits_{i=1}^{n} (x_i-\\mu)^2  $$"
   ]
  },
  {
   "cell_type": "markdown",
   "metadata": {},
   "source": [
    "    方差的数学公式(sample)"
   ]
  },
  {
   "cell_type": "markdown",
   "metadata": {},
   "source": [
    "$$ S^2=\\frac{1}{n-1}\\sum\\limits_{i=1}^{n} (x_i-\\bar{x})^2  $$"
   ]
  },
  {
   "cell_type": "code",
   "execution_count": null,
   "metadata": {},
   "outputs": [],
   "source": [
    "csf_cd['csf_tp'].var()"
   ]
  },
  {
   "cell_type": "markdown",
   "metadata": {},
   "source": [
    "### 3.3 standard deviation\n",
    "    标准差的数学公式： $$ \\sigma = \\sqrt{variance} \\mspace{6mu} or \\mspace{6mu} \\sqrt{\\sigma^2} $$"
   ]
  },
  {
   "cell_type": "markdown",
   "metadata": {},
   "source": [
    "$$ \\sigma = \\sqrt{variance} \\mspace{6mu} or \\mspace{6mu} \\sqrt{\\sigma^2} $$ "
   ]
  },
  {
   "cell_type": "code",
   "execution_count": null,
   "metadata": {},
   "outputs": [],
   "source": [
    "csf_cd['csf_tp'].std()"
   ]
  },
  {
   "cell_type": "code",
   "execution_count": null,
   "metadata": {},
   "outputs": [],
   "source": [
    "csf_cd.describe()"
   ]
  },
  {
   "cell_type": "markdown",
   "metadata": {},
   "source": [
    "## plot two or several variables/columns\n",
    "\n",
    "    1.scatter(散点图): two continous数据\n",
    "    2.box or bar: one continous by one categorical/dummy 数据\n",
    "    3.two categorical/dummy: cross table: 第四部分有示例"
   ]
  },
  {
   "cell_type": "code",
   "execution_count": null,
   "metadata": {},
   "outputs": [],
   "source": [
    "fig, ax = plt.subplots(figsize=(15,10))\n",
    "_ = sns.scatterplot('nondrug_fee', 'drug_fee', data=dis_he)\n",
    "ax.set_title('nondrug/drug of discharged patients')"
   ]
  },
  {
   "cell_type": "code",
   "execution_count": null,
   "metadata": {},
   "outputs": [],
   "source": [
    "fig, ax = plt.subplots(figsize=(15,10))\n",
    "_ = sns.boxplot(y = 'stay_days', x = 'adm_site', data=dis_he)"
   ]
  },
  {
   "cell_type": "markdown",
   "metadata": {},
   "source": [
    "# 4. 统计分析 + 作图\n",
    "\n",
    "    1.t-test\n",
    "    2.ANOVA\n",
    "    3.regression: OLS \n",
    "    4.nonparametric testing（非参数检验）：略\n",
    "    5.Kaplan Meier plot using lifelines module：略"
   ]
  },
  {
   "cell_type": "markdown",
   "metadata": {},
   "source": [
    "### 4.1 t-test by scipy.stat"
   ]
  },
  {
   "cell_type": "markdown",
   "metadata": {},
   "source": [
    "#### T-test(两样本) t值的计算"
   ]
  },
  {
   "cell_type": "markdown",
   "metadata": {},
   "source": [
    "$$ t = \\frac{\\bar{X_1}-\\bar{X_2}}{\\sqrt{\\frac{S_1^2}{N_1}+\\frac{S_2^2}{N_2}}}$$"
   ]
  },
  {
   "cell_type": "markdown",
   "metadata": {},
   "source": [
    "#### 按照自由度df=N1+N2-1，计算/查表获取 p value"
   ]
  },
  {
   "cell_type": "code",
   "execution_count": null,
   "metadata": {},
   "outputs": [],
   "source": [
    "# 比较自两个正态分布中取得的数值，是否存在统计学差异"
   ]
  },
  {
   "cell_type": "code",
   "execution_count": null,
   "metadata": {},
   "outputs": [],
   "source": [
    "data_ttest_a = np.random.normal(0,10,10000)\n",
    "data_ttest_b = np.random.normal(0,10,10000)"
   ]
  },
  {
   "cell_type": "code",
   "execution_count": null,
   "metadata": {},
   "outputs": [],
   "source": [
    "fig_ttest = plt.figure(figsize=(10,6))\n",
    "ax_ttest = fig_ttest.add_subplot(111)\n",
    "sns.distplot(data_ttest_a)\n",
    "sns.distplot(data_ttest_b)"
   ]
  },
  {
   "cell_type": "code",
   "execution_count": null,
   "metadata": {},
   "outputs": [],
   "source": [
    "stats.ttest_ind(data_ttest_a, data_ttest_b)"
   ]
  },
  {
   "cell_type": "markdown",
   "metadata": {},
   "source": [
    "### 4.2 ananlysis of variance（ANOVA） 方差分析\n",
    "    实际数据，dis_he: 不同天（星期几）入院对住院日的影响"
   ]
  },
  {
   "cell_type": "code",
   "execution_count": null,
   "metadata": {},
   "outputs": [],
   "source": [
    "# 生成variable：周几数据\n",
    "dis_he['weekday']=dis_he.adm_DT.dt.weekday_name"
   ]
  },
  {
   "cell_type": "code",
   "execution_count": null,
   "metadata": {},
   "outputs": [],
   "source": [
    "dis_he.groupby(['weekday'])['stay_days'].mean()"
   ]
  },
  {
   "cell_type": "code",
   "execution_count": null,
   "metadata": {},
   "outputs": [],
   "source": [
    "# 作图，sns的barplot\n",
    "week_list = ['Monday', 'Tuesday', 'Thursday', 'Wednesday', 'Friday', 'Saturday', 'Sunday']\n",
    "fig = plt.figure(figsize=[10, 9])\n",
    "ax1 = fig.add_subplot(211)\n",
    "ax2 = fig.add_subplot(212)\n",
    "sns.set(style='ticks')\n",
    "sns.barplot(x='weekday', y='stay_days',  data=dis_he, ax=ax1,\n",
    "            order=week_list)\n",
    "sns.barplot(x='weekday', y='stay_days',  data=dis_he, ax=ax2, \n",
    "            hue='adm_site', order=week_list)"
   ]
  },
  {
   "cell_type": "markdown",
   "metadata": {},
   "source": [
    "### ANOVA 方差分析：不同天入院住院日是否存在差别\n",
    "    ANOVA的假设用公式表示是"
   ]
  },
  {
   "cell_type": "markdown",
   "metadata": {},
   "source": [
    "$H_0:\\mu_1=\\mu_2=\\mu_3=\\mu_4=\\mu_5=\\mu_6=\\mu_7 \\\\ H_\\alpha:\\mu_i\\ne\\mu_j$"
   ]
  },
  {
   "cell_type": "code",
   "execution_count": null,
   "metadata": {},
   "outputs": [],
   "source": [
    "from statsmodels.formula.api import ols"
   ]
  },
  {
   "cell_type": "code",
   "execution_count": null,
   "metadata": {},
   "outputs": [],
   "source": [
    "stay_weekday_lm = ols('stay_days ~ C(weekday, Sum)', data=dis_he).fit()"
   ]
  },
  {
   "cell_type": "code",
   "execution_count": null,
   "metadata": {},
   "outputs": [],
   "source": [
    "table = sm.stats.anova_lm(stay_weekday_lm, typ=2)"
   ]
  },
  {
   "cell_type": "code",
   "execution_count": null,
   "metadata": {},
   "outputs": [],
   "source": [
    "print(table)"
   ]
  },
  {
   "cell_type": "code",
   "execution_count": null,
   "metadata": {},
   "outputs": [],
   "source": [
    "## 4.3 回归，线性 "
   ]
  },
  {
   "cell_type": "code",
   "execution_count": null,
   "metadata": {},
   "outputs": [],
   "source": [
    "sns.lmplot(x='nondrug_fee', y='drug_fee', data=dis_he, height=8)"
   ]
  },
  {
   "cell_type": "code",
   "execution_count": null,
   "metadata": {},
   "outputs": [],
   "source": [
    "# OLS回归模型\n",
    "ols_drug_fee = smf.ols('drug_fee ~ nondrug_fee', data=dis_he).fit()"
   ]
  },
  {
   "cell_type": "code",
   "execution_count": null,
   "metadata": {},
   "outputs": [],
   "source": [
    "print(ols_drug_fee.summary())"
   ]
  },
  {
   "cell_type": "code",
   "execution_count": null,
   "metadata": {},
   "outputs": [],
   "source": [
    "ols_drug_fee_stay = smf.ols('drug_fee ~ nondrug_fee + stay_days', data=dis_he).fit()\n",
    "print(ols_drug_fee_stay.summary())"
   ]
  },
  {
   "cell_type": "code",
   "execution_count": null,
   "metadata": {},
   "outputs": [],
   "source": [
    "sns.lmplot(x='stay_days', y='drug_fee', data=dis_he, height=8)"
   ]
  },
  {
   "cell_type": "markdown",
   "metadata": {},
   "source": [
    "# 5. bonus: 机器学习（machine learning）or 人工智能（AI）\n",
    "    有限情况下的示例：神经内科按年度，月度来看，入院患者数量有没有规律。\n",
    "    Note：传统的统计分析是提供结论的，不能提供深度研究的价值"
   ]
  },
  {
   "cell_type": "code",
   "execution_count": null,
   "metadata": {},
   "outputs": [],
   "source": [
    "# 提取年度信息\n",
    "dis_he['year']=dis_he.adm_DT.dt.year"
   ]
  },
  {
   "cell_type": "code",
   "execution_count": null,
   "metadata": {},
   "outputs": [],
   "source": [
    "# 提取月度信息\n",
    "dis_he['month_name']=dis_he.adm_DT.dt.month_name()"
   ]
  },
  {
   "cell_type": "code",
   "execution_count": null,
   "metadata": {},
   "outputs": [],
   "source": [
    "# 重新简化一个表格\n",
    "dis_heat = dis_he[['IPD_ID', 'year', 'month_name']]"
   ]
  },
  {
   "cell_type": "code",
   "execution_count": null,
   "metadata": {},
   "outputs": [],
   "source": [
    "df = pd.crosstab(dis_heat['year'], dis_heat['month_name'])"
   ]
  },
  {
   "cell_type": "code",
   "execution_count": null,
   "metadata": {},
   "outputs": [],
   "source": [
    "df.drop(index = [2013, 2019], inplace=True)"
   ]
  },
  {
   "cell_type": "code",
   "execution_count": null,
   "metadata": {},
   "outputs": [],
   "source": [
    "# plot clustermap\n",
    "ax = sns.clustermap(df, cmap='magma_r')  # annot=True"
   ]
  },
  {
   "cell_type": "markdown",
   "metadata": {},
   "source": [
    "# 后记\n",
    "    1.临床还没有真正意义的“big data”，好的研究设计，适量的数据。\n",
    "        尤甚：数据淹没个性，但突出个性更需要大数据。\n",
    "             如何做到：通过network放大个性\n",
    "             \n",
    "    2.市面上的付费软件，容易上手，但深度达不到（除R）\n",
    "    3.我的目的，以及后续想法\n",
    "        3.1 学习：启发几位高手，共同进步。\n",
    "            note: 10,000小时定律，不用记忆具体code\n",
    "        3.2 使用：诸位了解什么是可以做的，可以交给我来做（但你必须要懂，也要完成很多工作）"
   ]
  }
 ],
 "metadata": {
  "kernelspec": {
   "display_name": "Python 3",
   "language": "python",
   "name": "python3"
  },
  "language_info": {
   "codemirror_mode": {
    "name": "ipython",
    "version": 3
   },
   "file_extension": ".py",
   "mimetype": "text/x-python",
   "name": "python",
   "nbconvert_exporter": "python",
   "pygments_lexer": "ipython3",
   "version": "3.7.3"
  }
 },
 "nbformat": 4,
 "nbformat_minor": 4
}
