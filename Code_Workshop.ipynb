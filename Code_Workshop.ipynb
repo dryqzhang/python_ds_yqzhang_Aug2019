{
 "cells": [
  {
   "cell_type": "markdown",
   "metadata": {},
   "source": [
    "# 课程目标：在python环境下对临床资料进行整理\n",
    "\n",
    "## 步骤\n",
    "    1.读取：HIS和LIS数据\n",
    "    2.整理：主要是数据类型的修改\n",
    "    3.图形化：\n",
    "    4.统计学：数据描述，统计方法的实现\n",
    "    5.机器学习算法展示"
   ]
  },
  {
   "cell_type": "markdown",
   "metadata": {},
   "source": [
    "## 准备工作：导入模块/软件库\n",
    "\n",
    "    1.numpy主要用于科学计算，可生成homogeneous数据，本例中用其生成易于展示图形，统计分析的数据\n",
    "    2.pandas用于导入数据，这些数据多为heterogeneous，是我们日常数据的主要形式\n",
    "    3.matplotlib用于作图\n",
    "    4.seaborn用于高级制图，尤其是统计学用到的\n",
    "    5.statsmodels用于统计分析"
   ]
  },
  {
   "cell_type": "code",
   "execution_count": 1,
   "metadata": {},
   "outputs": [],
   "source": [
    "import numpy as np\n",
    "import pandas as pd\n",
    "import matplotlib\n",
    "import matplotlib.pyplot as plt\n",
    "import seaborn as sns\n",
    "import statsmodels.api as sm\n",
    "import statsmodels.formula.api as smf\n",
    "from datetime import datetime, date, time, timedelta"
   ]
  },
  {
   "cell_type": "markdown",
   "metadata": {},
   "source": [
    "## 设置显示参数\n",
    "    a.统一使用inline\n",
    "    b.调整显示r*w数，适时调整"
   ]
  },
  {
   "cell_type": "code",
   "execution_count": 2,
   "metadata": {},
   "outputs": [],
   "source": [
    "# deploy the situation\n",
    "## plt backends, e.g. through code \"%matplotlib --list\" --> inline/ipympl/widget\n",
    "### matplotlib.use('nbAgg') --> need to call plt.show() for display\n",
    "\n",
    "### conda install -y nodejs or install from nodejs.org\n",
    "### pip install ipympl\n",
    "### pip install --upgrade jupyterlab\n",
    "### jupyter labextension install @jupyter-widgets/jupyterlab-manager\n",
    "### jupyter labextension install jupyter-matplotlib\n",
    "### jupyter nbextension enable --py widgetsnbextension\n",
    "%matplotlib ipympl\n",
    "## check with code 'plt.get_backend()'\n",
    "\n",
    "# pandas display option\n",
    "pd.set_option(\"display.max_rows\", 20)\n",
    "pd.set_option(\"display.max_columns\", 20)"
   ]
  },
  {
   "cell_type": "markdown",
   "metadata": {},
   "source": [
    "# 1. 读取并查看数据\n",
    "    1.HIS数据，神经内科2013年12月至2019年6月份出院患者病历首页部分数据\n",
    "    2.LIS数据，神经内科部分腰穿脑脊液数据（常规，生化部分项目）\n",
    "    NS:患者姓名，身份证等信息已被移除"
   ]
  },
  {
   "cell_type": "code",
   "execution_count": 19,
   "metadata": {},
   "outputs": [],
   "source": [
    "# when missing=False, you got NaN\n",
    "# HIS data\n",
    "discharge = pd.read_excel('/Users/yqzhang/Desktop/Meeting/20190808_CGME_Python/Neuro_Discharged.xls', \n",
    "                    convert_missing=False) \n",
    "\n",
    "csf = pd.read_csv('/Users/yqzhang/Desktop/Meeting/20190808_CGME_Python/csf.csv') "
   ]
  },
  {
   "cell_type": "code",
   "execution_count": 88,
   "metadata": {},
   "outputs": [],
   "source": [
    "# 直接查看，head()，tail(), loc, iloc"
   ]
  },
  {
   "cell_type": "code",
   "execution_count": 20,
   "metadata": {},
   "outputs": [
    {
     "name": "stdout",
     "output_type": "stream",
     "text": [
      "<class 'pandas.core.frame.DataFrame'>\n",
      "RangeIndex: 57856 entries, 0 to 57855\n",
      "Data columns (total 12 columns):\n",
      "出院科室    57856 non-null object\n",
      "住院号     57856 non-null object\n",
      "年龄      57856 non-null int64\n",
      "患者来源    57856 non-null object\n",
      "诊断类型    57856 non-null object\n",
      "诊断编码    57371 non-null object\n",
      "诊断名称    57854 non-null object\n",
      "入院日期    57856 non-null datetime64[ns]\n",
      "出院日期    57856 non-null datetime64[ns]\n",
      "住院天数    57856 non-null int64\n",
      "非药费     57856 non-null float64\n",
      "药费      57386 non-null float64\n",
      "dtypes: datetime64[ns](2), float64(2), int64(2), object(6)\n",
      "memory usage: 5.3+ MB\n"
     ]
    }
   ],
   "source": [
    "# info(), 查看数据类型\n",
    "discharge.info()"
   ]
  },
  {
   "cell_type": "code",
   "execution_count": 21,
   "metadata": {},
   "outputs": [
    {
     "data": {
      "text/html": [
       "<div>\n",
       "<style scoped>\n",
       "    .dataframe tbody tr th:only-of-type {\n",
       "        vertical-align: middle;\n",
       "    }\n",
       "\n",
       "    .dataframe tbody tr th {\n",
       "        vertical-align: top;\n",
       "    }\n",
       "\n",
       "    .dataframe thead th {\n",
       "        text-align: right;\n",
       "    }\n",
       "</style>\n",
       "<table border=\"1\" class=\"dataframe\">\n",
       "  <thead>\n",
       "    <tr style=\"text-align: right;\">\n",
       "      <th></th>\n",
       "      <th>出院科室</th>\n",
       "      <th>住院号</th>\n",
       "      <th>年龄</th>\n",
       "      <th>患者来源</th>\n",
       "      <th>诊断类型</th>\n",
       "      <th>诊断编码</th>\n",
       "      <th>诊断名称</th>\n",
       "      <th>入院日期</th>\n",
       "      <th>出院日期</th>\n",
       "      <th>住院天数</th>\n",
       "      <th>非药费</th>\n",
       "      <th>药费</th>\n",
       "    </tr>\n",
       "  </thead>\n",
       "  <tbody>\n",
       "    <tr>\n",
       "      <th>0</th>\n",
       "      <td>神经内科</td>\n",
       "      <td>ZY010000007045</td>\n",
       "      <td>87</td>\n",
       "      <td>门诊</td>\n",
       "      <td>主要诊断</td>\n",
       "      <td>H81.000</td>\n",
       "      <td>梅尼埃病</td>\n",
       "      <td>2014-05-19 10:03:56</td>\n",
       "      <td>2000-05-27 10:08:37</td>\n",
       "      <td>0</td>\n",
       "      <td>3025.56</td>\n",
       "      <td>3111.17</td>\n",
       "    </tr>\n",
       "    <tr>\n",
       "      <th>1</th>\n",
       "      <td>神经内科</td>\n",
       "      <td>ZY010000007045</td>\n",
       "      <td>87</td>\n",
       "      <td>门诊</td>\n",
       "      <td>其他诊断</td>\n",
       "      <td>I10.x00</td>\n",
       "      <td>高血压病</td>\n",
       "      <td>2014-05-19 10:03:56</td>\n",
       "      <td>2000-05-27 10:08:37</td>\n",
       "      <td>0</td>\n",
       "      <td>3025.56</td>\n",
       "      <td>3111.17</td>\n",
       "    </tr>\n",
       "    <tr>\n",
       "      <th>2</th>\n",
       "      <td>神经内科</td>\n",
       "      <td>ZY010000007045</td>\n",
       "      <td>87</td>\n",
       "      <td>门诊</td>\n",
       "      <td>其他诊断</td>\n",
       "      <td>I25.103</td>\n",
       "      <td>冠状动脉粥样硬化性心脏病</td>\n",
       "      <td>2014-05-19 10:03:56</td>\n",
       "      <td>2000-05-27 10:08:37</td>\n",
       "      <td>0</td>\n",
       "      <td>3025.56</td>\n",
       "      <td>3111.17</td>\n",
       "    </tr>\n",
       "    <tr>\n",
       "      <th>3</th>\n",
       "      <td>神经内科</td>\n",
       "      <td>ZY010000033205</td>\n",
       "      <td>77</td>\n",
       "      <td>门诊</td>\n",
       "      <td>主要诊断</td>\n",
       "      <td>I61.900</td>\n",
       "      <td>脑出血</td>\n",
       "      <td>2015-06-28 13:26:04</td>\n",
       "      <td>2000-07-04 08:00:35</td>\n",
       "      <td>0</td>\n",
       "      <td>4033.59</td>\n",
       "      <td>3135.88</td>\n",
       "    </tr>\n",
       "    <tr>\n",
       "      <th>4</th>\n",
       "      <td>神经内科</td>\n",
       "      <td>ZY010000033205</td>\n",
       "      <td>77</td>\n",
       "      <td>门诊</td>\n",
       "      <td>其他诊断</td>\n",
       "      <td>E78.500</td>\n",
       "      <td>高脂血症</td>\n",
       "      <td>2015-06-28 13:26:04</td>\n",
       "      <td>2000-07-04 08:00:35</td>\n",
       "      <td>0</td>\n",
       "      <td>4033.59</td>\n",
       "      <td>3135.88</td>\n",
       "    </tr>\n",
       "  </tbody>\n",
       "</table>\n",
       "</div>"
      ],
      "text/plain": [
       "   出院科室             住院号  年龄 患者来源  诊断类型     诊断编码          诊断名称  \\\n",
       "0  神经内科  ZY010000007045  87   门诊  主要诊断  H81.000          梅尼埃病   \n",
       "1  神经内科  ZY010000007045  87   门诊  其他诊断  I10.x00          高血压病   \n",
       "2  神经内科  ZY010000007045  87   门诊  其他诊断  I25.103  冠状动脉粥样硬化性心脏病   \n",
       "3  神经内科  ZY010000033205  77   门诊  主要诊断  I61.900           脑出血   \n",
       "4  神经内科  ZY010000033205  77   门诊  其他诊断  E78.500          高脂血症   \n",
       "\n",
       "                 入院日期                出院日期  住院天数      非药费       药费  \n",
       "0 2014-05-19 10:03:56 2000-05-27 10:08:37     0  3025.56  3111.17  \n",
       "1 2014-05-19 10:03:56 2000-05-27 10:08:37     0  3025.56  3111.17  \n",
       "2 2014-05-19 10:03:56 2000-05-27 10:08:37     0  3025.56  3111.17  \n",
       "3 2015-06-28 13:26:04 2000-07-04 08:00:35     0  4033.59  3135.88  \n",
       "4 2015-06-28 13:26:04 2000-07-04 08:00:35     0  4033.59  3135.88  "
      ]
     },
     "execution_count": 21,
     "metadata": {},
     "output_type": "execute_result"
    }
   ],
   "source": [
    "discharge.head()"
   ]
  },
  {
   "cell_type": "markdown",
   "metadata": {},
   "source": [
    "# 2. 整理数据(will occupy your 80% workload)\n",
    "以discharge数据为例，csf is available for analysis(wide table)\n",
    "    2.1 删除不需要的observations(rows), variables(columns)\n",
    "    2.2 修改variable name（字母简写）\n",
    "    2.3 设定索引 variable ？"
   ]
  },
  {
   "cell_type": "markdown",
   "metadata": {},
   "source": [
    "## 2.1 drop observations(rows) or variables(columns)\n",
    "    a.英文化index; 修改，删除等操作\n",
    "    b.使用loc，iloc进行slice，主要是loc\n",
    "    c.tidying data: melt(), pivot_table()\n",
    "    d.slice and merge new dataspreads for analysis"
   ]
  },
  {
   "cell_type": "code",
   "execution_count": 23,
   "metadata": {},
   "outputs": [],
   "source": [
    "# 删除变量’出院科室‘\n",
    "discharge.drop(columns='出院科室', inplace=True)"
   ]
  },
  {
   "cell_type": "code",
   "execution_count": 24,
   "metadata": {},
   "outputs": [
    {
     "data": {
      "text/html": [
       "<div>\n",
       "<style scoped>\n",
       "    .dataframe tbody tr th:only-of-type {\n",
       "        vertical-align: middle;\n",
       "    }\n",
       "\n",
       "    .dataframe tbody tr th {\n",
       "        vertical-align: top;\n",
       "    }\n",
       "\n",
       "    .dataframe thead th {\n",
       "        text-align: right;\n",
       "    }\n",
       "</style>\n",
       "<table border=\"1\" class=\"dataframe\">\n",
       "  <thead>\n",
       "    <tr style=\"text-align: right;\">\n",
       "      <th></th>\n",
       "      <th>住院号</th>\n",
       "      <th>年龄</th>\n",
       "      <th>患者来源</th>\n",
       "      <th>诊断类型</th>\n",
       "      <th>诊断编码</th>\n",
       "      <th>诊断名称</th>\n",
       "      <th>入院日期</th>\n",
       "      <th>出院日期</th>\n",
       "      <th>住院天数</th>\n",
       "      <th>非药费</th>\n",
       "      <th>药费</th>\n",
       "    </tr>\n",
       "  </thead>\n",
       "  <tbody>\n",
       "    <tr>\n",
       "      <th>0</th>\n",
       "      <td>ZY010000007045</td>\n",
       "      <td>87</td>\n",
       "      <td>门诊</td>\n",
       "      <td>主要诊断</td>\n",
       "      <td>H81.000</td>\n",
       "      <td>梅尼埃病</td>\n",
       "      <td>2014-05-19 10:03:56</td>\n",
       "      <td>2000-05-27 10:08:37</td>\n",
       "      <td>0</td>\n",
       "      <td>3025.56</td>\n",
       "      <td>3111.17</td>\n",
       "    </tr>\n",
       "    <tr>\n",
       "      <th>1</th>\n",
       "      <td>ZY010000007045</td>\n",
       "      <td>87</td>\n",
       "      <td>门诊</td>\n",
       "      <td>其他诊断</td>\n",
       "      <td>I10.x00</td>\n",
       "      <td>高血压病</td>\n",
       "      <td>2014-05-19 10:03:56</td>\n",
       "      <td>2000-05-27 10:08:37</td>\n",
       "      <td>0</td>\n",
       "      <td>3025.56</td>\n",
       "      <td>3111.17</td>\n",
       "    </tr>\n",
       "    <tr>\n",
       "      <th>2</th>\n",
       "      <td>ZY010000007045</td>\n",
       "      <td>87</td>\n",
       "      <td>门诊</td>\n",
       "      <td>其他诊断</td>\n",
       "      <td>I25.103</td>\n",
       "      <td>冠状动脉粥样硬化性心脏病</td>\n",
       "      <td>2014-05-19 10:03:56</td>\n",
       "      <td>2000-05-27 10:08:37</td>\n",
       "      <td>0</td>\n",
       "      <td>3025.56</td>\n",
       "      <td>3111.17</td>\n",
       "    </tr>\n",
       "    <tr>\n",
       "      <th>3</th>\n",
       "      <td>ZY010000033205</td>\n",
       "      <td>77</td>\n",
       "      <td>门诊</td>\n",
       "      <td>主要诊断</td>\n",
       "      <td>I61.900</td>\n",
       "      <td>脑出血</td>\n",
       "      <td>2015-06-28 13:26:04</td>\n",
       "      <td>2000-07-04 08:00:35</td>\n",
       "      <td>0</td>\n",
       "      <td>4033.59</td>\n",
       "      <td>3135.88</td>\n",
       "    </tr>\n",
       "    <tr>\n",
       "      <th>4</th>\n",
       "      <td>ZY010000033205</td>\n",
       "      <td>77</td>\n",
       "      <td>门诊</td>\n",
       "      <td>其他诊断</td>\n",
       "      <td>E78.500</td>\n",
       "      <td>高脂血症</td>\n",
       "      <td>2015-06-28 13:26:04</td>\n",
       "      <td>2000-07-04 08:00:35</td>\n",
       "      <td>0</td>\n",
       "      <td>4033.59</td>\n",
       "      <td>3135.88</td>\n",
       "    </tr>\n",
       "  </tbody>\n",
       "</table>\n",
       "</div>"
      ],
      "text/plain": [
       "              住院号  年龄 患者来源  诊断类型     诊断编码          诊断名称                入院日期  \\\n",
       "0  ZY010000007045  87   门诊  主要诊断  H81.000          梅尼埃病 2014-05-19 10:03:56   \n",
       "1  ZY010000007045  87   门诊  其他诊断  I10.x00          高血压病 2014-05-19 10:03:56   \n",
       "2  ZY010000007045  87   门诊  其他诊断  I25.103  冠状动脉粥样硬化性心脏病 2014-05-19 10:03:56   \n",
       "3  ZY010000033205  77   门诊  主要诊断  I61.900           脑出血 2015-06-28 13:26:04   \n",
       "4  ZY010000033205  77   门诊  其他诊断  E78.500          高脂血症 2015-06-28 13:26:04   \n",
       "\n",
       "                 出院日期  住院天数      非药费       药费  \n",
       "0 2000-05-27 10:08:37     0  3025.56  3111.17  \n",
       "1 2000-05-27 10:08:37     0  3025.56  3111.17  \n",
       "2 2000-05-27 10:08:37     0  3025.56  3111.17  \n",
       "3 2000-07-04 08:00:35     0  4033.59  3135.88  \n",
       "4 2000-07-04 08:00:35     0  4033.59  3135.88  "
      ]
     },
     "execution_count": 24,
     "metadata": {},
     "output_type": "execute_result"
    }
   ],
   "source": [
    "discharge.head()"
   ]
  },
  {
   "cell_type": "code",
   "execution_count": 28,
   "metadata": {},
   "outputs": [],
   "source": [
    "## 修改变量名\n",
    "discharge.columns=['IPD_ID', 'age', 'adm_site', 'diag_type', 'ICD',\n",
    "             'diagnosis', 'adm_DT', 'dis_DT', 'stay_days', 'nondrug_fee', 'drug_fee']"
   ]
  },
  {
   "cell_type": "code",
   "execution_count": 27,
   "metadata": {},
   "outputs": [
    {
     "data": {
      "text/html": [
       "<div>\n",
       "<style scoped>\n",
       "    .dataframe tbody tr th:only-of-type {\n",
       "        vertical-align: middle;\n",
       "    }\n",
       "\n",
       "    .dataframe tbody tr th {\n",
       "        vertical-align: top;\n",
       "    }\n",
       "\n",
       "    .dataframe thead th {\n",
       "        text-align: right;\n",
       "    }\n",
       "</style>\n",
       "<table border=\"1\" class=\"dataframe\">\n",
       "  <thead>\n",
       "    <tr style=\"text-align: right;\">\n",
       "      <th></th>\n",
       "      <th>IPD_ID</th>\n",
       "      <th>age</th>\n",
       "      <th>adm_site</th>\n",
       "      <th>diag_type</th>\n",
       "      <th>ICD</th>\n",
       "      <th>diagnosis</th>\n",
       "      <th>adm_DT</th>\n",
       "      <th>dis_DT</th>\n",
       "      <th>stay_days</th>\n",
       "      <th>nondrug_fee</th>\n",
       "      <th>drug_fee</th>\n",
       "    </tr>\n",
       "  </thead>\n",
       "  <tbody>\n",
       "    <tr>\n",
       "      <th>0</th>\n",
       "      <td>ZY010000007045</td>\n",
       "      <td>87</td>\n",
       "      <td>门诊</td>\n",
       "      <td>主要诊断</td>\n",
       "      <td>H81.000</td>\n",
       "      <td>梅尼埃病</td>\n",
       "      <td>2014-05-19 10:03:56</td>\n",
       "      <td>2000-05-27 10:08:37</td>\n",
       "      <td>0</td>\n",
       "      <td>3025.56</td>\n",
       "      <td>3111.17</td>\n",
       "    </tr>\n",
       "    <tr>\n",
       "      <th>1</th>\n",
       "      <td>ZY010000007045</td>\n",
       "      <td>87</td>\n",
       "      <td>门诊</td>\n",
       "      <td>其他诊断</td>\n",
       "      <td>I10.x00</td>\n",
       "      <td>高血压病</td>\n",
       "      <td>2014-05-19 10:03:56</td>\n",
       "      <td>2000-05-27 10:08:37</td>\n",
       "      <td>0</td>\n",
       "      <td>3025.56</td>\n",
       "      <td>3111.17</td>\n",
       "    </tr>\n",
       "    <tr>\n",
       "      <th>2</th>\n",
       "      <td>ZY010000007045</td>\n",
       "      <td>87</td>\n",
       "      <td>门诊</td>\n",
       "      <td>其他诊断</td>\n",
       "      <td>I25.103</td>\n",
       "      <td>冠状动脉粥样硬化性心脏病</td>\n",
       "      <td>2014-05-19 10:03:56</td>\n",
       "      <td>2000-05-27 10:08:37</td>\n",
       "      <td>0</td>\n",
       "      <td>3025.56</td>\n",
       "      <td>3111.17</td>\n",
       "    </tr>\n",
       "    <tr>\n",
       "      <th>3</th>\n",
       "      <td>ZY010000033205</td>\n",
       "      <td>77</td>\n",
       "      <td>门诊</td>\n",
       "      <td>主要诊断</td>\n",
       "      <td>I61.900</td>\n",
       "      <td>脑出血</td>\n",
       "      <td>2015-06-28 13:26:04</td>\n",
       "      <td>2000-07-04 08:00:35</td>\n",
       "      <td>0</td>\n",
       "      <td>4033.59</td>\n",
       "      <td>3135.88</td>\n",
       "    </tr>\n",
       "    <tr>\n",
       "      <th>4</th>\n",
       "      <td>ZY010000033205</td>\n",
       "      <td>77</td>\n",
       "      <td>门诊</td>\n",
       "      <td>其他诊断</td>\n",
       "      <td>E78.500</td>\n",
       "      <td>高脂血症</td>\n",
       "      <td>2015-06-28 13:26:04</td>\n",
       "      <td>2000-07-04 08:00:35</td>\n",
       "      <td>0</td>\n",
       "      <td>4033.59</td>\n",
       "      <td>3135.88</td>\n",
       "    </tr>\n",
       "  </tbody>\n",
       "</table>\n",
       "</div>"
      ],
      "text/plain": [
       "           IPD_ID  age adm_site diag_type      ICD     diagnosis  \\\n",
       "0  ZY010000007045   87       门诊      主要诊断  H81.000          梅尼埃病   \n",
       "1  ZY010000007045   87       门诊      其他诊断  I10.x00          高血压病   \n",
       "2  ZY010000007045   87       门诊      其他诊断  I25.103  冠状动脉粥样硬化性心脏病   \n",
       "3  ZY010000033205   77       门诊      主要诊断  I61.900           脑出血   \n",
       "4  ZY010000033205   77       门诊      其他诊断  E78.500          高脂血症   \n",
       "\n",
       "               adm_DT              dis_DT  stay_days  nondrug_fee  drug_fee  \n",
       "0 2014-05-19 10:03:56 2000-05-27 10:08:37          0      3025.56   3111.17  \n",
       "1 2014-05-19 10:03:56 2000-05-27 10:08:37          0      3025.56   3111.17  \n",
       "2 2014-05-19 10:03:56 2000-05-27 10:08:37          0      3025.56   3111.17  \n",
       "3 2015-06-28 13:26:04 2000-07-04 08:00:35          0      4033.59   3135.88  \n",
       "4 2015-06-28 13:26:04 2000-07-04 08:00:35          0      4033.59   3135.88  "
      ]
     },
     "execution_count": 27,
     "metadata": {},
     "output_type": "execute_result"
    }
   ],
   "source": [
    "discharge.head()"
   ]
  },
  {
   "cell_type": "code",
   "execution_count": null,
   "metadata": {},
   "outputs": [],
   "source": [
    "# 单个修改：df.rename(columns = {'sex':'Sex'})"
   ]
  },
  {
   "cell_type": "code",
   "execution_count": null,
   "metadata": {},
   "outputs": [],
   "source": [
    "# 分成两个表格，一个服务于我们查看卫生经济学，一个服务于临床诊断"
   ]
  },
  {
   "cell_type": "markdown",
   "metadata": {},
   "source": [
    "## datetime show\n",
    "    1.pd.to_datetime from object type\n",
    "    2.dt.hour/weekday_name etc to extract elements"
   ]
  },
  {
   "cell_type": "code",
   "execution_count": 27,
   "metadata": {},
   "outputs": [],
   "source": [
    "data['Weekday']=data.Admit_DT.dt.weekday_name"
   ]
  },
  {
   "cell_type": "code",
   "execution_count": 40,
   "metadata": {},
   "outputs": [],
   "source": [
    "data['Year']=data.Admit_DT.dt.year"
   ]
  },
  {
   "cell_type": "code",
   "execution_count": 45,
   "metadata": {
    "collapsed": true,
    "jupyter": {
     "outputs_hidden": true
    }
   },
   "outputs": [
    {
     "data": {
      "text/plain": [
       "<matplotlib.axes._subplots.AxesSubplot at 0x1c21bf79e8>"
      ]
     },
     "execution_count": 45,
     "metadata": {},
     "output_type": "execute_result"
    },
    {
     "data": {
      "image/png": "[encoded data removed]",
      "text/plain": [
       "<Figure size 432x288 with 1 Axes>"
      ]
     },
     "metadata": {
      "needs_background": "light"
     },
     "output_type": "display_data"
    }
   ],
   "source": [
    "data['Year'].value_counts().sort_index().plot()"
   ]
  },
  {
   "cell_type": "code",
   "execution_count": 17,
   "metadata": {
    "collapsed": true,
    "jupyter": {
     "outputs_hidden": true
    }
   },
   "outputs": [
    {
     "data": {
      "text/html": [
       "<div>\n",
       "<style scoped>\n",
       "    .dataframe tbody tr th:only-of-type {\n",
       "        vertical-align: middle;\n",
       "    }\n",
       "\n",
       "    .dataframe tbody tr th {\n",
       "        vertical-align: top;\n",
       "    }\n",
       "\n",
       "    .dataframe thead th {\n",
       "        text-align: right;\n",
       "    }\n",
       "</style>\n",
       "<table border=\"1\" class=\"dataframe\">\n",
       "  <thead>\n",
       "    <tr style=\"text-align: right;\">\n",
       "      <th>项目名称</th>\n",
       "      <th>样本编号</th>\n",
       "      <th>氯</th>\n",
       "      <th>脑脊液免疫球蛋白A</th>\n",
       "      <th>脑脊液免疫球蛋白G</th>\n",
       "      <th>脑脊液免疫球蛋白M</th>\n",
       "      <th>脑脊液白蛋白</th>\n",
       "      <th>脑脊液蛋白</th>\n",
       "      <th>葡萄糖</th>\n",
       "    </tr>\n",
       "  </thead>\n",
       "  <tbody>\n",
       "    <tr>\n",
       "      <th>0</th>\n",
       "      <td>20140209G5030009</td>\n",
       "      <td>123.36</td>\n",
       "      <td>NaN</td>\n",
       "      <td>NaN</td>\n",
       "      <td>NaN</td>\n",
       "      <td>NaN</td>\n",
       "      <td>1.824</td>\n",
       "      <td>2.85</td>\n",
       "    </tr>\n",
       "    <tr>\n",
       "      <th>1</th>\n",
       "      <td>20140212G5030142</td>\n",
       "      <td>121.03</td>\n",
       "      <td>NaN</td>\n",
       "      <td>NaN</td>\n",
       "      <td>NaN</td>\n",
       "      <td>NaN</td>\n",
       "      <td>1.024</td>\n",
       "      <td>5.61</td>\n",
       "    </tr>\n",
       "    <tr>\n",
       "      <th>2</th>\n",
       "      <td>20140213G5030132</td>\n",
       "      <td>113.76</td>\n",
       "      <td>NaN</td>\n",
       "      <td>NaN</td>\n",
       "      <td>NaN</td>\n",
       "      <td>NaN</td>\n",
       "      <td>&gt;2.297</td>\n",
       "      <td>0.97</td>\n",
       "    </tr>\n",
       "    <tr>\n",
       "      <th>3</th>\n",
       "      <td>20140213G5030133</td>\n",
       "      <td>119.82</td>\n",
       "      <td>NaN</td>\n",
       "      <td>NaN</td>\n",
       "      <td>NaN</td>\n",
       "      <td>NaN</td>\n",
       "      <td>1.636</td>\n",
       "      <td>2.10</td>\n",
       "    </tr>\n",
       "    <tr>\n",
       "      <th>4</th>\n",
       "      <td>20140217G5030137</td>\n",
       "      <td>122.77</td>\n",
       "      <td>NaN</td>\n",
       "      <td>NaN</td>\n",
       "      <td>NaN</td>\n",
       "      <td>NaN</td>\n",
       "      <td>1.019</td>\n",
       "      <td>3.06</td>\n",
       "    </tr>\n",
       "    <tr>\n",
       "      <th>5</th>\n",
       "      <td>20140218G5030194</td>\n",
       "      <td>123.36</td>\n",
       "      <td>NaN</td>\n",
       "      <td>NaN</td>\n",
       "      <td>NaN</td>\n",
       "      <td>NaN</td>\n",
       "      <td>0.424</td>\n",
       "      <td>4.05</td>\n",
       "    </tr>\n",
       "    <tr>\n",
       "      <th>6</th>\n",
       "      <td>20140219G5030176</td>\n",
       "      <td>119.92</td>\n",
       "      <td>NaN</td>\n",
       "      <td>NaN</td>\n",
       "      <td>NaN</td>\n",
       "      <td>NaN</td>\n",
       "      <td>0.195</td>\n",
       "      <td>3.55</td>\n",
       "    </tr>\n",
       "    <tr>\n",
       "      <th>7</th>\n",
       "      <td>20140220G5030150</td>\n",
       "      <td>123.57</td>\n",
       "      <td>NaN</td>\n",
       "      <td>NaN</td>\n",
       "      <td>NaN</td>\n",
       "      <td>NaN</td>\n",
       "      <td>0.610</td>\n",
       "      <td>3.26</td>\n",
       "    </tr>\n",
       "    <tr>\n",
       "      <th>8</th>\n",
       "      <td>20140220G5030158</td>\n",
       "      <td>122.67</td>\n",
       "      <td>NaN</td>\n",
       "      <td>NaN</td>\n",
       "      <td>NaN</td>\n",
       "      <td>NaN</td>\n",
       "      <td>0.373</td>\n",
       "      <td>3.20</td>\n",
       "    </tr>\n",
       "    <tr>\n",
       "      <th>9</th>\n",
       "      <td>20140220G5030162</td>\n",
       "      <td>117.11</td>\n",
       "      <td>NaN</td>\n",
       "      <td>NaN</td>\n",
       "      <td>NaN</td>\n",
       "      <td>NaN</td>\n",
       "      <td>2.404</td>\n",
       "      <td>2.00</td>\n",
       "    </tr>\n",
       "    <tr>\n",
       "      <th>...</th>\n",
       "      <td>...</td>\n",
       "      <td>...</td>\n",
       "      <td>...</td>\n",
       "      <td>...</td>\n",
       "      <td>...</td>\n",
       "      <td>...</td>\n",
       "      <td>...</td>\n",
       "      <td>...</td>\n",
       "    </tr>\n",
       "    <tr>\n",
       "      <th>250</th>\n",
       "      <td>20141216G5030222</td>\n",
       "      <td>122.00</td>\n",
       "      <td>NaN</td>\n",
       "      <td>NaN</td>\n",
       "      <td>NaN</td>\n",
       "      <td>NaN</td>\n",
       "      <td>0.839</td>\n",
       "      <td>2.36</td>\n",
       "    </tr>\n",
       "    <tr>\n",
       "      <th>251</th>\n",
       "      <td>20141216G5041410</td>\n",
       "      <td>NaN</td>\n",
       "      <td>12.6</td>\n",
       "      <td>76.1</td>\n",
       "      <td>&lt;0.142</td>\n",
       "      <td>616</td>\n",
       "      <td>NaN</td>\n",
       "      <td>NaN</td>\n",
       "    </tr>\n",
       "    <tr>\n",
       "      <th>252</th>\n",
       "      <td>20141217G5030001</td>\n",
       "      <td>125.14</td>\n",
       "      <td>NaN</td>\n",
       "      <td>NaN</td>\n",
       "      <td>NaN</td>\n",
       "      <td>NaN</td>\n",
       "      <td>0.488</td>\n",
       "      <td>2.92</td>\n",
       "    </tr>\n",
       "    <tr>\n",
       "      <th>253</th>\n",
       "      <td>20141217G5041302</td>\n",
       "      <td>NaN</td>\n",
       "      <td>3.81</td>\n",
       "      <td>42.6</td>\n",
       "      <td>0.689</td>\n",
       "      <td>343</td>\n",
       "      <td>NaN</td>\n",
       "      <td>NaN</td>\n",
       "    </tr>\n",
       "    <tr>\n",
       "      <th>254</th>\n",
       "      <td>20141223G5030206</td>\n",
       "      <td>127.30</td>\n",
       "      <td>NaN</td>\n",
       "      <td>NaN</td>\n",
       "      <td>NaN</td>\n",
       "      <td>NaN</td>\n",
       "      <td>0.439</td>\n",
       "      <td>4.26</td>\n",
       "    </tr>\n",
       "    <tr>\n",
       "      <th>255</th>\n",
       "      <td>20141223G5041404</td>\n",
       "      <td>NaN</td>\n",
       "      <td>6.73</td>\n",
       "      <td>46.8</td>\n",
       "      <td>0.281</td>\n",
       "      <td>358</td>\n",
       "      <td>NaN</td>\n",
       "      <td>NaN</td>\n",
       "    </tr>\n",
       "    <tr>\n",
       "      <th>256</th>\n",
       "      <td>20141225G5030223</td>\n",
       "      <td>115.60</td>\n",
       "      <td>NaN</td>\n",
       "      <td>NaN</td>\n",
       "      <td>NaN</td>\n",
       "      <td>NaN</td>\n",
       "      <td>1.396</td>\n",
       "      <td>3.53</td>\n",
       "    </tr>\n",
       "    <tr>\n",
       "      <th>257</th>\n",
       "      <td>20141225G5041312</td>\n",
       "      <td>NaN</td>\n",
       "      <td>&lt;1.28</td>\n",
       "      <td>&lt;3.37</td>\n",
       "      <td>2.62</td>\n",
       "      <td>&lt;82.6</td>\n",
       "      <td>NaN</td>\n",
       "      <td>NaN</td>\n",
       "    </tr>\n",
       "    <tr>\n",
       "      <th>258</th>\n",
       "      <td>20141231G5030180</td>\n",
       "      <td>121.48</td>\n",
       "      <td>NaN</td>\n",
       "      <td>NaN</td>\n",
       "      <td>NaN</td>\n",
       "      <td>NaN</td>\n",
       "      <td>0.764</td>\n",
       "      <td>3.98</td>\n",
       "    </tr>\n",
       "    <tr>\n",
       "      <th>259</th>\n",
       "      <td>20141231G5041410</td>\n",
       "      <td>NaN</td>\n",
       "      <td>6.16</td>\n",
       "      <td>56.8</td>\n",
       "      <td>0.551</td>\n",
       "      <td>650</td>\n",
       "      <td>NaN</td>\n",
       "      <td>NaN</td>\n",
       "    </tr>\n",
       "  </tbody>\n",
       "</table>\n",
       "<p>260 rows × 8 columns</p>\n",
       "</div>"
      ],
      "text/plain": [
       "项目名称              样本编号       氯 脑脊液免疫球蛋白A 脑脊液免疫球蛋白G 脑脊液免疫球蛋白M 脑脊液白蛋白   脑脊液蛋白  \\\n",
       "0     20140209G5030009  123.36       NaN       NaN       NaN    NaN   1.824   \n",
       "1     20140212G5030142  121.03       NaN       NaN       NaN    NaN   1.024   \n",
       "2     20140213G5030132  113.76       NaN       NaN       NaN    NaN  >2.297   \n",
       "3     20140213G5030133  119.82       NaN       NaN       NaN    NaN   1.636   \n",
       "4     20140217G5030137  122.77       NaN       NaN       NaN    NaN   1.019   \n",
       "..                 ...     ...       ...       ...       ...    ...     ...   \n",
       "255   20141223G5041404     NaN      6.73      46.8     0.281    358     NaN   \n",
       "256   20141225G5030223  115.60       NaN       NaN       NaN    NaN   1.396   \n",
       "257   20141225G5041312     NaN     <1.28     <3.37      2.62  <82.6     NaN   \n",
       "258   20141231G5030180  121.48       NaN       NaN       NaN    NaN   0.764   \n",
       "259   20141231G5041410     NaN      6.16      56.8     0.551    650     NaN   \n",
       "\n",
       "项目名称   葡萄糖  \n",
       "0     2.85  \n",
       "1     5.61  \n",
       "2     0.97  \n",
       "3     2.10  \n",
       "4     3.06  \n",
       "..     ...  \n",
       "255    NaN  \n",
       "256   3.53  \n",
       "257    NaN  \n",
       "258   3.98  \n",
       "259    NaN  \n",
       "\n",
       "[260 rows x 8 columns]"
      ]
     },
     "execution_count": 17,
     "metadata": {},
     "output_type": "execute_result"
    }
   ],
   "source": [
    "# pivot function for non-numeric var. pivot_table for numeric var\n",
    "csf_data.pivot(index='样本编号',\n",
    "                columns='项目名称',\n",
    "                values='原始结果'                     \n",
    "                    ).reset_index()"
   ]
  },
  {
   "cell_type": "code",
   "execution_count": 15,
   "metadata": {
    "collapsed": true,
    "jupyter": {
     "outputs_hidden": true
    }
   },
   "outputs": [
    {
     "data": {
      "text/plain": [
       "FromWhere  Attending\n",
       "其他         张永庆           7210.488144\n",
       "           徐军            6846.919677\n",
       "           李玲            5766.361042\n",
       "           杨海明           8196.159600\n",
       "           梁兵           10832.265000\n",
       "           赵冰            9076.041538\n",
       "           赵翠萍           8322.988667\n",
       "           钟庆            3055.601379\n",
       "其他医疗机构转入   张永庆           7138.771429\n",
       "           徐军            4911.570000\n",
       "                            ...     \n",
       "门诊         李海峰           3127.624194\n",
       "           李玲            6013.691969\n",
       "           杨海明           7279.270480\n",
       "           梁兵            5865.178826\n",
       "           王君涛           1557.850000\n",
       "           苗萌            8845.740000\n",
       "           赵冰            6115.085102\n",
       "           赵翠萍           8418.845900\n",
       "           钟庆            4872.318001\n",
       "           高翔            5612.632727\n",
       "Name: Drug_fee, Length: 47, dtype: float64"
      ]
     },
     "execution_count": 15,
     "metadata": {},
     "output_type": "execute_result"
    }
   ],
   "source": [
    "data.groupby(['FromWhere', 'Attending'])['Drug_fee'].mean()"
   ]
  },
  {
   "cell_type": "code",
   "execution_count": 19,
   "metadata": {},
   "outputs": [],
   "source": [
    "## change dtype with astype()\n",
    "data['Age'] = data['Age'].astype(str)"
   ]
  },
  {
   "cell_type": "code",
   "execution_count": null,
   "metadata": {
    "scrolled": true
   },
   "outputs": [],
   "source": [
    "index = pd.MultiIndex.from_frame(csf_data.loc[:,['病人ID', '项目名称']])"
   ]
  },
  {
   "cell_type": "code",
   "execution_count": null,
   "metadata": {},
   "outputs": [],
   "source": [
    "# concatenate: pd.concat()"
   ]
  },
  {
   "cell_type": "code",
   "execution_count": null,
   "metadata": {},
   "outputs": [],
   "source": [
    "# merge: pd.merge()"
   ]
  },
  {
   "cell_type": "markdown",
   "metadata": {},
   "source": [
    "# 2nd: Fundamental information"
   ]
  },
  {
   "cell_type": "code",
   "execution_count": null,
   "metadata": {},
   "outputs": [],
   "source": [
    "data.shape"
   ]
  },
  {
   "cell_type": "code",
   "execution_count": null,
   "metadata": {
    "scrolled": true
   },
   "outputs": [],
   "source": [
    "data.info()"
   ]
  },
  {
   "cell_type": "code",
   "execution_count": null,
   "metadata": {
    "scrolled": true
   },
   "outputs": [],
   "source": [
    "data.rename(columns = {'年龄':'age'})"
   ]
  },
  {
   "cell_type": "code",
   "execution_count": null,
   "metadata": {},
   "outputs": [],
   "source": [
    "## sorting"
   ]
  },
  {
   "cell_type": "code",
   "execution_count": null,
   "metadata": {
    "scrolled": true
   },
   "outputs": [],
   "source": [
    "data.sort_values(by=\"年龄\")"
   ]
  },
  {
   "cell_type": "code",
   "execution_count": null,
   "metadata": {
    "scrolled": true
   },
   "outputs": [],
   "source": [
    "data.columns"
   ]
  },
  {
   "cell_type": "code",
   "execution_count": null,
   "metadata": {},
   "outputs": [],
   "source": [
    "unique_admission = data.groupby('住院号').first()"
   ]
  },
  {
   "cell_type": "code",
   "execution_count": null,
   "metadata": {
    "scrolled": true
   },
   "outputs": [],
   "source": [
    "unique_admission.describe()"
   ]
  },
  {
   "cell_type": "code",
   "execution_count": null,
   "metadata": {},
   "outputs": [],
   "source": [
    "attending = data.groupby('主治医师').mean()"
   ]
  },
  {
   "cell_type": "code",
   "execution_count": null,
   "metadata": {
    "scrolled": true
   },
   "outputs": [],
   "source": [
    "attending[['住院天数','非药费', '药费']]"
   ]
  },
  {
   "cell_type": "code",
   "execution_count": null,
   "metadata": {},
   "outputs": [],
   "source": [
    "## correlation and covariance"
   ]
  },
  {
   "cell_type": "code",
   "execution_count": null,
   "metadata": {},
   "outputs": [],
   "source": [
    "data.corr()"
   ]
  },
  {
   "cell_type": "code",
   "execution_count": null,
   "metadata": {},
   "outputs": [],
   "source": [
    "data['非药费'].cov(data['药费'])"
   ]
  },
  {
   "cell_type": "code",
   "execution_count": null,
   "metadata": {},
   "outputs": [],
   "source": [
    "## membership: isin"
   ]
  },
  {
   "cell_type": "code",
   "execution_count": null,
   "metadata": {},
   "outputs": [],
   "source": []
  },
  {
   "cell_type": "code",
   "execution_count": null,
   "metadata": {},
   "outputs": [],
   "source": []
  },
  {
   "cell_type": "markdown",
   "metadata": {},
   "source": [
    "# 3. 数据描述 + plotting\n",
    "\n",
    "常见数据描述，如mean，std，variance，covariance，rr，ro --> 使用数学符号做show\n",
    "\n",
    "    a.定义一个figure: plt.figure()\n",
    "    b.定义数个axes: fig.add_subplot(2,2,1) or 合并a+b，fig axes=plt.subplots(nrows=2, ncols=2)\n",
    "    c.在axes上使用plt.sns等绘图\n",
    "    c.定义axes的特征\n",
    "        ax.set(xlim, ylim,title, xlabel, etc\n",
    "        ax.set_xlim\n",
    "以single variable，two varialbes来展示"
   ]
  },
  {
   "cell_type": "markdown",
   "metadata": {},
   "source": [
    "### 3.1 mean\n",
    "    离散变量平均数的数学公式: $$\\mu=\\frac{\\sum\\limits_{i=1}^{n}x_i}{N}$$"
   ]
  },
  {
   "cell_type": "markdown",
   "metadata": {},
   "source": [
    "$$\\mu=\\frac{\\sum\\limits_{i=1}^{n}x_i}{N}$$"
   ]
  },
  {
   "cell_type": "markdown",
   "metadata": {},
   "source": [
    "### 3.2 variance\n",
    "    方差的数学公式(population) $$ \\sigma^2=\\frac{1}{N}\\sum\\limits_{i=1}^{n} (x_i-\\mu)^2  $$"
   ]
  },
  {
   "cell_type": "markdown",
   "metadata": {},
   "source": [
    "$$ \\sigma^2=\\frac{1}{N}\\sum\\limits_{i=1}^{n} (x_i-\\mu)^2  $$"
   ]
  },
  {
   "cell_type": "markdown",
   "metadata": {},
   "source": [
    "    方差的数学公式(sample)"
   ]
  },
  {
   "cell_type": "markdown",
   "metadata": {},
   "source": [
    "$$ S^2=\\frac{1}{n-1}\\sum\\limits_{i=1}^{n} (x_i-\\bar{x})^2  $$"
   ]
  },
  {
   "cell_type": "code",
   "execution_count": null,
   "metadata": {},
   "outputs": [],
   "source": []
  },
  {
   "cell_type": "markdown",
   "metadata": {},
   "source": [
    "### 3.3 standard deviation\n",
    "    标准差的数学公式： $$ \\sigma = \\sqrt{variance} \\mspace{6mu} or \\mspace{6mu} \\sqrt{\\sigma^2} $$"
   ]
  },
  {
   "cell_type": "markdown",
   "metadata": {},
   "source": [
    "$$ \\sigma = \\sqrt{variance} \\mspace{6mu} or \\mspace{6mu} \\sqrt{\\sigma^2} $$ "
   ]
  },
  {
   "cell_type": "code",
   "execution_count": 3,
   "metadata": {
    "scrolled": true
   },
   "outputs": [
    {
     "data": {
      "application/vnd.jupyter.widget-view+json": {
       "model_id": "",
       "version_major": 2,
       "version_minor": 0
      },
      "text/plain": [
       "Canvas(toolbar=Toolbar(toolitems=[('Home', 'Reset original view', 'home', 'home'), ('Back', 'Back to previous …"
      ]
     },
     "metadata": {},
     "output_type": "display_data"
    },
    {
     "data": {
      "text/plain": [
       "Text(0.5, 0, 'number of what')"
      ]
     },
     "execution_count": 3,
     "metadata": {},
     "output_type": "execute_result"
    }
   ],
   "source": [
    "#可以绘制多个图叠加，任意控制元素\n",
    "fig = plt.figure()\n",
    "ax = fig.add_subplot(111)\n",
    "ax.plot([1,2,3,4], [10, 20, 25, 30], linewidth=3)\n",
    "ax.scatter([0.3, 3.8, 1.2, 2.5], [11, 25, 9, 26], c=[1,2,3,5], marker='o')\n",
    "ax.set_xlabel('number of what', size=20)"
   ]
  },
  {
   "cell_type": "markdown",
   "metadata": {},
   "source": [
    "## single variable\n",
    "\n",
    "    1.histogram（直方图）: discrete数据\n",
    "    2.kde（核概率密度估计）: continuous数据"
   ]
  },
  {
   "cell_type": "code",
   "execution_count": 11,
   "metadata": {},
   "outputs": [
    {
     "name": "stdout",
     "output_type": "stream",
     "text": [
      "Variable     Type           Data/Info\n",
      "-------------------------------------\n",
      "a            ndarray        10000: 10000 elems, type `float64`, 80000 bytes\n",
      "ax           AxesSubplot    AxesSubplot(0.125,0.125;0.775x0.755)\n",
      "axes         ndarray        2x2: 4 elems, type `object`, 32 bytes\n",
      "date         type           <class 'datetime.date'>\n",
      "datetime     type           <class 'datetime.datetime'>\n",
      "fig          Figure         Figure(432x288)\n",
      "fig2         Figure         Figure(432x288)\n",
      "matplotlib   module         <module 'matplotlib' from<...>/matplotlib/__init__.py'>\n",
      "np           module         <module 'numpy' from '/Us<...>kages/numpy/__init__.py'>\n",
      "pd           module         <module 'pandas' from '/U<...>ages/pandas/__init__.py'>\n",
      "plt          module         <module 'matplotlib.pyplo<...>es/matplotlib/pyplot.py'>\n",
      "sm           module         <module 'statsmodels.api'<...>ages/statsmodels/api.py'>\n",
      "smf          module         <module 'statsmodels.form<...>tsmodels/formula/api.py'>\n",
      "sns          module         <module 'seaborn' from '/<...>ges/seaborn/__init__.py'>\n",
      "time         type           <class 'datetime.time'>\n",
      "timedelta    type           <class 'datetime.timedelta'>\n"
     ]
    }
   ],
   "source": [
    "%whos"
   ]
  },
  {
   "cell_type": "markdown",
   "metadata": {},
   "source": [
    "## plot two or several variables/columns\n",
    "\n",
    "    1.scatter(散点图): two continous数据\n",
    "    2.box or bar: one continous by one dummy 数据"
   ]
  },
  {
   "cell_type": "code",
   "execution_count": null,
   "metadata": {},
   "outputs": [],
   "source": [
    "sns.scatterplot('Nondrug_fee', 'Drug_fee', data=data)"
   ]
  },
  {
   "cell_type": "markdown",
   "metadata": {},
   "source": [
    "# 4. 统计分析 + 作图\n",
    "\n",
    "    1.t-test\n",
    "    2.ANOVA\n",
    "    3.regression: OLS \n",
    "    4.nonparametric testing（非参数检验）\n",
    "    5.Kaplan Meier plot using lifelines module"
   ]
  },
  {
   "cell_type": "markdown",
   "metadata": {},
   "source": [
    "### 4.1 t-test by scipy.stat"
   ]
  },
  {
   "cell_type": "markdown",
   "metadata": {},
   "source": [
    "#### T-test(两样本) t值的计算"
   ]
  },
  {
   "cell_type": "markdown",
   "metadata": {},
   "source": [
    "$$ t = \\frac{\\bar{X_1}-\\bar{X_2}}{\\sqrt{\\frac{S_1^2}{N_1}+\\frac{S_2^2}{N_2}}}$$"
   ]
  },
  {
   "cell_type": "markdown",
   "metadata": {},
   "source": [
    "#### 按照自由度df=N1+N2-1，计算/查表获取 p value"
   ]
  },
  {
   "cell_type": "code",
   "execution_count": 58,
   "metadata": {},
   "outputs": [],
   "source": [
    "from scipy import stats"
   ]
  },
  {
   "cell_type": "code",
   "execution_count": 60,
   "metadata": {},
   "outputs": [
    {
     "data": {
      "text/plain": [
       "Ttest_indResult(statistic=32.7768893661516, pvalue=1.559122946304171e-234)"
      ]
     },
     "execution_count": 60,
     "metadata": {},
     "output_type": "execute_result"
    }
   ],
   "source": [
    "## nan_policy \n",
    "stats.ttest_ind(data['Nondrug_fee'], data['Drug_fee'], nan_policy='omit')"
   ]
  },
  {
   "cell_type": "code",
   "execution_count": null,
   "metadata": {},
   "outputs": [],
   "source": [
    "## computing dummy variables"
   ]
  },
  {
   "cell_type": "code",
   "execution_count": null,
   "metadata": {
    "scrolled": true
   },
   "outputs": [],
   "source": [
    "pd.get_dummies(data['住院医师'], prefix='住院医师')"
   ]
  },
  {
   "cell_type": "code",
   "execution_count": null,
   "metadata": {},
   "outputs": [],
   "source": [
    "df = pd.DataFrame([['bar', 'one'], ['bar', 'two'],\n",
    "                 ['foo','one'], ['foo', 'two']],\n",
    "                 columns=['first', 'second'])"
   ]
  },
  {
   "cell_type": "code",
   "execution_count": null,
   "metadata": {},
   "outputs": [],
   "source": [
    "index = pd.MultiIndex.from_frame(df)"
   ]
  },
  {
   "cell_type": "code",
   "execution_count": null,
   "metadata": {},
   "outputs": [],
   "source": [
    "pd.DataFrame(np.random.randn(4,10), index=index)"
   ]
  },
  {
   "cell_type": "code",
   "execution_count": null,
   "metadata": {},
   "outputs": [],
   "source": [
    "sns.scatterplot?"
   ]
  },
  {
   "cell_type": "code",
   "execution_count": null,
   "metadata": {},
   "outputs": [],
   "source": []
  }
 ],
 "metadata": {
  "kernelspec": {
   "display_name": "Python 3",
   "language": "python",
   "name": "python3"
  },
  "language_info": {
   "codemirror_mode": {
    "name": "ipython",
    "version": 3
   },
   "file_extension": ".py",
   "mimetype": "text/x-python",
   "name": "python",
   "nbconvert_exporter": "python",
   "pygments_lexer": "ipython3",
   "version": "3.7.3"
  }
 },
 "nbformat": 4,
 "nbformat_minor": 4
}
