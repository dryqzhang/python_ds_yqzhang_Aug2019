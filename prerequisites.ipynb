{
 "cells": [
  {
   "cell_type": "markdown",
   "metadata": {},
   "source": [
    "# 本工作坊的三要素\n",
    "    1. jupyter lab 环境\n",
    "    2. python 语言\n",
    "    3. modules/libriaries: numpy, pandas，matplotlib & statsmodels etc"
   ]
  },
  {
   "cell_type": "markdown",
   "metadata": {},
   "source": [
    "## 1. Jupyter lab 环境\n",
    "    1.1 是Anaconda的一个组件，Anaconda设计用于data science\n",
    "    1.2 jupyter lab 是python语言最好的环境之一\n",
    "    1.3 在Anaconda中，我们也可以使用R，Julia"
   ]
  },
  {
   "cell_type": "markdown",
   "metadata": {},
   "source": [
    "## 2. Python语言初识\n",
    "    2.1 基本操作（jupyter）\n",
    "    2.2 作为计算器来简单熟悉基本操作\n",
    "    2.3 数据"
   ]
  },
  {
   "cell_type": "markdown",
   "metadata": {},
   "source": [
    "### 2.1. 基本操作 \n",
    "    2.1.1 逐cell执行命令，默认为按 shift+enter\n",
    "    2.1.2 在每个cell内，换行按enter\n",
    "    2.1.3 cell可分为markdown 和 code两种状态\n",
    "    caution：大小写敏感；python预留的string不能用"
   ]
  },
  {
   "cell_type": "markdown",
   "metadata": {},
   "source": [
    "### 2.2. 计算器"
   ]
  },
  {
   "cell_type": "code",
   "execution_count": 73,
   "metadata": {},
   "outputs": [
    {
     "data": {
      "text/plain": [
       "8"
      ]
     },
     "execution_count": 73,
     "metadata": {},
     "output_type": "execute_result"
    }
   ],
   "source": [
    "2 * 4"
   ]
  },
  {
   "cell_type": "code",
   "execution_count": 2,
   "metadata": {},
   "outputs": [
    {
     "data": {
      "text/plain": [
       "6.0"
      ]
     },
     "execution_count": 2,
     "metadata": {},
     "output_type": "execute_result"
    }
   ],
   "source": [
    "30 / (2+3)"
   ]
  },
  {
   "cell_type": "markdown",
   "metadata": {},
   "source": [
    "### 2.3. 数据\n",
    "    2.3.1 数据类型：即single value的类型，也成为scalar，如int，float，str，boolen\n",
    "    2.3.2 数据结构：即如何组织多个single value"
   ]
  },
  {
   "cell_type": "markdown",
   "metadata": {},
   "source": [
    "#### 2.3.1 数据类型"
   ]
  },
  {
   "cell_type": "code",
   "execution_count": 19,
   "metadata": {},
   "outputs": [],
   "source": [
    "# 分别测试 1, 1.5, 'workshop', True\n",
    "a = 1"
   ]
  },
  {
   "cell_type": "code",
   "execution_count": 27,
   "metadata": {},
   "outputs": [
    {
     "data": {
      "text/plain": [
       "int"
      ]
     },
     "execution_count": 27,
     "metadata": {},
     "output_type": "execute_result"
    }
   ],
   "source": [
    "type(a)"
   ]
  },
  {
   "cell_type": "markdown",
   "metadata": {},
   "source": [
    "#### 2.3.1 数据结构\n",
    "    tuple: ( )，不学！\n",
    "    list: [ ]\n",
    "    dict: { }"
   ]
  },
  {
   "cell_type": "code",
   "execution_count": 30,
   "metadata": {},
   "outputs": [],
   "source": [
    "a_list = [1, 3, 7, 'ok']"
   ]
  },
  {
   "cell_type": "code",
   "execution_count": 36,
   "metadata": {},
   "outputs": [
    {
     "data": {
      "text/plain": [
       "[1, 3, 7, 'ok']"
      ]
     },
     "execution_count": 36,
     "metadata": {},
     "output_type": "execute_result"
    }
   ],
   "source": [
    "a_list"
   ]
  },
  {
   "cell_type": "code",
   "execution_count": 31,
   "metadata": {},
   "outputs": [
    {
     "data": {
      "text/plain": [
       "list"
      ]
     },
     "execution_count": 31,
     "metadata": {},
     "output_type": "execute_result"
    }
   ],
   "source": [
    "type(a_list)"
   ]
  },
  {
   "cell_type": "code",
   "execution_count": 33,
   "metadata": {},
   "outputs": [
    {
     "data": {
      "text/plain": [
       "[1, 3, 7]"
      ]
     },
     "execution_count": 33,
     "metadata": {},
     "output_type": "execute_result"
    }
   ],
   "source": [
    "a_list[0:3]"
   ]
  },
  {
   "cell_type": "code",
   "execution_count": 35,
   "metadata": {},
   "outputs": [],
   "source": [
    "b_dict = {'a': [1, 3, 5, 7],\n",
    "         'b' : ['foo', 'bar', 'cha', 8]}"
   ]
  },
  {
   "cell_type": "code",
   "execution_count": 37,
   "metadata": {},
   "outputs": [
    {
     "data": {
      "text/plain": [
       "{'a': [1, 3, 5, 7], 'b': ['foo', 'bar', 'cha', 8]}"
      ]
     },
     "execution_count": 37,
     "metadata": {},
     "output_type": "execute_result"
    }
   ],
   "source": [
    "b_dict"
   ]
  },
  {
   "cell_type": "markdown",
   "metadata": {},
   "source": [
    "# boring"
   ]
  },
  {
   "cell_type": "markdown",
   "metadata": {},
   "source": [
    "# 练习：自行做一个dict"
   ]
  },
  {
   "cell_type": "markdown",
   "metadata": {},
   "source": [
    "## 3. 引入modules/libriaries"
   ]
  },
  {
   "cell_type": "code",
   "execution_count": 39,
   "metadata": {},
   "outputs": [],
   "source": [
    "import numpy as np"
   ]
  },
  {
   "cell_type": "code",
   "execution_count": 44,
   "metadata": {},
   "outputs": [],
   "source": [
    "d_dict = np.array(np.random.normal(0, 1, 1000))"
   ]
  },
  {
   "cell_type": "code",
   "execution_count": 47,
   "metadata": {
    "collapsed": true,
    "jupyter": {
     "outputs_hidden": true
    }
   },
   "outputs": [
    {
     "data": {
      "text/plain": [
       "array([ 1.56549591,  0.24065182, -0.30147125,  1.25780398,  1.22915521,\n",
       "       -0.93520013, -1.20813135,  0.47325729,  1.18068398, -0.1613307 ,\n",
       "        0.58109018,  0.6298807 ,  0.87295109,  0.68947092, -0.26872637,\n",
       "       -0.9733075 ,  2.375496  , -0.34625105,  0.18311507, -0.62568838,\n",
       "        0.98403182,  1.45926364,  1.10347073,  0.17376615, -0.27638033,\n",
       "        0.91774309, -1.8880728 ,  0.9810243 , -0.20335193, -0.57771651,\n",
       "        0.31855475,  0.82569626, -1.35124762,  0.94444975,  0.75123878,\n",
       "       -0.35272022,  0.2479573 ,  0.07519737,  0.24487595, -1.04578494,\n",
       "       -0.39930107,  0.93881821, -0.09725238,  1.17816285, -0.1517072 ,\n",
       "        0.60801954,  0.85095607, -0.01499255,  0.36564824, -0.64646946,\n",
       "        0.98682193, -1.18388616,  0.74676282, -1.46825277,  0.45548921,\n",
       "        1.08356871,  0.31810014, -0.19095112, -0.18498276, -1.32237047,\n",
       "        0.74817672,  0.34568546,  0.01678223,  1.04842309,  0.43905012,\n",
       "       -0.5016085 ,  0.63804423,  1.91724614, -0.0495295 , -0.18481977,\n",
       "       -0.10117663, -0.74095787, -0.31615618, -1.31995626, -0.71139209,\n",
       "        0.84792611,  1.0450939 , -0.79099053,  0.33870198, -1.81845165,\n",
       "        0.43195217,  0.89441943,  0.17080975,  0.45480845,  0.49125919,\n",
       "        0.19370638, -0.7326833 ,  0.09142744,  0.64758407, -1.39993955,\n",
       "        0.34707207, -0.5011327 , -2.26853443, -1.30036698, -0.52000782,\n",
       "        0.40407766, -0.76920966, -1.22950423, -0.52019779, -0.69927513,\n",
       "       -1.84687201, -0.23510012, -0.28833475,  1.15609947,  0.07252427,\n",
       "        0.28406797, -0.40422473,  2.03933699,  1.4851655 , -0.96492745,\n",
       "       -2.64143643,  0.66462045,  1.99922082,  0.70982886, -0.54458647,\n",
       "        0.74780074, -0.34434909, -0.92806734, -1.05607509, -0.46445063,\n",
       "        0.42354281, -1.05480093, -1.44881538,  0.47431923,  0.42890874,\n",
       "        0.19501152,  0.38063518, -0.45469709,  1.03365481,  0.51444353,\n",
       "        0.24586176,  0.49519924,  0.64488096,  0.14671103,  0.93115489,\n",
       "       -0.63800058, -0.63946193, -0.38142195,  0.29659309, -2.27957168,\n",
       "       -0.86963679, -0.61189942, -0.02081661, -0.07441555, -0.62721507,\n",
       "        0.52460542,  0.88856248, -0.18357658,  0.33506742, -0.17942919,\n",
       "       -1.00028798,  0.49569192, -0.28409159,  0.26425898,  0.38134474,\n",
       "       -1.31531758,  0.39486699, -1.25359203,  0.17105842, -0.03916039,\n",
       "       -1.42001558, -0.62929322, -0.17850981, -0.87073816, -0.00875089,\n",
       "       -1.36771141, -0.65008849,  0.51964191,  0.04613016, -1.95389466,\n",
       "       -0.861018  , -1.21444272, -0.47457858, -0.41187338, -0.18956161,\n",
       "        1.27820719, -0.95999789, -0.74792985,  2.00877192,  0.09733447,\n",
       "       -1.08032298,  0.98719223, -0.316595  , -0.38523208,  0.06605844,\n",
       "       -0.7759683 , -0.81812511,  0.53224715, -1.64977209,  0.78118097,\n",
       "        0.32097335, -1.31457586, -0.25905179,  0.42395054,  0.10014233,\n",
       "       -0.90416556,  2.12610669,  0.04876913,  0.47238742,  0.44554833,\n",
       "        0.16442868, -0.05464612,  1.82447841, -0.94975586, -0.71172992,\n",
       "        0.80288387, -0.78098067,  0.23910443, -0.33036594, -1.05382104,\n",
       "        0.35230527,  0.30552688,  1.0381669 ,  2.40408866, -0.14075145,\n",
       "        0.59007195, -1.01272165,  0.36456698,  0.17974122, -0.54395726,\n",
       "       -1.07731236, -0.7086768 ,  1.14757424,  0.75577665,  1.14617042,\n",
       "       -0.16912028,  0.15248288, -1.05941929, -1.35425128, -0.32743325,\n",
       "       -0.00738647, -0.37139994, -1.00061364,  0.93272723, -1.55541267,\n",
       "        0.68969677,  0.17537185, -0.93561013,  0.58761249,  1.35362241,\n",
       "        0.75798078,  0.2694468 , -0.05952863,  0.54592709, -0.75697576,\n",
       "       -0.73504262, -1.67416068, -2.25421718, -0.3048261 , -0.09296454,\n",
       "        0.56480924, -0.72525065, -1.19817875,  0.79913349, -1.77525847,\n",
       "       -0.98673509, -1.10376714, -2.02294627, -1.46108705, -0.52508828,\n",
       "        2.13398639, -1.36766822,  0.18058404, -0.71112933, -0.90004354,\n",
       "        1.8189834 , -1.01849236,  0.52829064,  0.71896432, -1.76445873,\n",
       "        0.45838176,  0.71576918,  0.77679875,  0.48751802, -0.49741872,\n",
       "       -0.80210812, -0.70248094,  0.60484863,  1.94847532,  0.72198341,\n",
       "       -0.67325705,  1.63290741, -0.1567035 ,  0.22641944,  0.53988455,\n",
       "        0.29919669,  0.45654636, -0.45772393, -1.35335114,  0.78022616,\n",
       "       -0.39946456, -0.28484038, -0.69616069, -1.38166589,  1.26966815,\n",
       "       -1.2506444 , -1.14047988,  1.13381287, -1.59807293, -0.08580367,\n",
       "       -1.03690965, -0.04425184, -0.26608517, -0.43599048, -0.00381407,\n",
       "        0.43138245,  1.5430955 , -0.8126482 ,  2.03660965, -0.19405097,\n",
       "        1.41503995,  0.6323816 , -1.01109656, -1.38988021,  0.96636883,\n",
       "        1.45360267, -0.99122172, -0.84187968, -0.87666629,  0.21153818,\n",
       "        0.71850355, -1.48339474, -0.05206521,  0.33558244,  0.15436195,\n",
       "       -2.04443012,  1.60417548, -1.45864433,  0.11998716,  0.23728901,\n",
       "        0.20696069,  1.28201591,  0.04728879,  0.32947399, -0.75505208,\n",
       "       -0.2016318 , -1.02271966, -0.13284326, -0.01727969,  0.58258714,\n",
       "       -0.72053489,  0.62816174, -1.83333406, -1.66504397,  2.43657924,\n",
       "        0.29440253, -0.91440755, -0.752132  ,  0.26733807, -1.77673336,\n",
       "        1.22649605,  2.1650451 , -1.8118605 ,  1.20708992,  1.6146479 ,\n",
       "       -0.93455234,  1.75459633,  0.85918662,  0.74803204,  0.74426199,\n",
       "       -0.24017061,  1.24274749, -0.76730059,  0.82734023, -0.13650873,\n",
       "       -1.58683968,  0.71631134,  0.72585532,  0.70395011,  1.87948641,\n",
       "        0.13615935,  0.98877962, -0.9390407 ,  0.49085108, -0.12515766,\n",
       "       -0.83040075,  0.36797783,  0.25803883,  0.9824322 ,  0.46555594,\n",
       "       -1.78499476, -0.02030309, -0.16254736, -0.08097996, -0.03848755,\n",
       "        1.14620893,  0.3482762 ,  0.04726255,  1.74282413,  0.40362048,\n",
       "        0.36215132, -0.97313662,  0.25780805, -0.7774793 ,  0.1629176 ,\n",
       "       -1.08062323,  0.10513987,  0.36193181, -0.13291545,  0.07404581,\n",
       "        1.07689005,  1.25966893,  0.65820257,  0.96924299,  0.51786395,\n",
       "        0.23752159, -1.58766791,  0.67025525, -0.95717456,  0.18850959,\n",
       "        1.23514632,  1.13074634, -0.31309538, -0.77009992,  0.32065926,\n",
       "       -0.02419503,  0.16013809,  1.77108832,  1.15104316, -2.23354154,\n",
       "       -1.47028667,  1.28034179, -0.02486132,  0.13687636, -0.92735289,\n",
       "        0.90409452, -1.01839813, -1.82595829,  0.28898642, -0.32698546,\n",
       "        1.37419237, -0.6144451 ,  0.29952656, -0.6750979 , -1.0920673 ,\n",
       "       -1.04579406,  1.1476371 , -0.24303796,  0.65144883,  2.14149717,\n",
       "       -0.2276849 , -0.31885037, -0.57527478, -0.23008447,  0.43499239,\n",
       "        0.01084557, -0.22086009,  1.55354096,  0.20170011, -0.89755297,\n",
       "        1.69256671,  0.84008885, -0.56677008,  0.81213617, -0.70168208,\n",
       "        0.88030853, -1.68127753, -0.57961209,  0.24633364,  0.69924841,\n",
       "       -0.2827716 ,  0.3973192 , -0.80355471, -0.73809253,  0.67181761,\n",
       "       -1.35115197,  1.04848632,  1.05827154, -1.93341338, -0.64876109,\n",
       "        0.04227855, -1.18054696,  0.09434145,  0.74971129,  0.42410976,\n",
       "       -0.82296366,  1.05730998,  0.4546595 , -0.41255865,  1.02645249,\n",
       "        0.37852391, -0.57065085, -0.27658609,  1.0348528 , -1.53109245,\n",
       "        0.62823775,  0.62148199,  0.56341188, -1.58273228, -0.94988112,\n",
       "        1.06629601, -1.32996734,  0.14986766, -0.92922394,  1.87213136,\n",
       "        1.21285888,  1.06041009, -1.76109954, -0.52958064, -0.52733273,\n",
       "       -1.1114793 , -2.1696223 , -0.21618313,  0.67490232, -0.20464268,\n",
       "       -0.25264554,  1.77271647,  0.89174804,  0.27155989, -0.69028019,\n",
       "        1.93910101,  0.3878748 ,  0.76956209,  0.8441678 ,  0.51246339,\n",
       "        2.02204328,  1.09485378,  0.15052373,  0.35179869,  2.13922634,\n",
       "       -0.36429045,  2.35446795, -0.49930672, -0.73117278, -0.85468069,\n",
       "       -1.52973762, -0.83317907,  0.19708266, -0.47750382, -0.28040792,\n",
       "        0.33942254, -0.00324678,  0.80825774,  0.35338817,  0.39603818,\n",
       "        0.56742366, -2.68325573, -1.04271146,  0.42492155, -1.34775436,\n",
       "        0.44233146,  0.26234364, -0.11181387,  0.25004613, -1.1422537 ,\n",
       "        0.059958  ,  0.12310577, -0.26169641, -0.88570516, -0.75354931,\n",
       "        0.09243783, -0.47417168,  0.06982191,  1.41242436,  1.42431319,\n",
       "       -0.09361871,  0.60251044,  0.22939292,  0.20020096,  0.75835658,\n",
       "        0.24081327, -0.63449486, -2.57616968,  0.7282824 , -0.70555857,\n",
       "        1.56629905, -0.83118267,  0.76787282,  0.26837239,  0.14818324,\n",
       "       -0.26308467, -1.52157687, -1.85744911, -0.57005295, -0.0495341 ,\n",
       "        0.55880476,  0.02435923, -1.29128456, -0.55763482, -0.9730401 ,\n",
       "        0.9154248 ,  0.34242801, -0.03714829,  0.3603827 , -1.9005814 ,\n",
       "        0.16837376,  2.55175477,  1.42189944,  1.20951114, -0.26825805,\n",
       "       -1.56469105, -1.20271218,  1.23168407,  1.01042101,  0.52147617,\n",
       "        0.47994775,  1.56415223,  0.19207796,  0.14060186,  0.98684439,\n",
       "        0.29056505,  2.12604329,  0.10065329, -1.40642718, -0.68574842,\n",
       "       -0.24402712,  1.67303176, -0.28194356, -0.09662973,  1.16870159,\n",
       "       -0.99989036,  0.1031264 , -1.10362999, -0.38106356, -0.12128483,\n",
       "        0.91175529, -2.06368568,  0.51856818, -1.30973898,  0.9992339 ,\n",
       "        1.45029429,  1.0411165 , -0.82363689, -0.36075412,  0.28878163,\n",
       "        0.852914  ,  0.60177744, -0.43048167, -0.04318709,  0.21754598,\n",
       "        1.25793554,  2.48031158,  0.96224694, -0.04581426,  1.14858646,\n",
       "       -0.3288511 ,  0.30788536,  1.76577265, -0.19960632,  0.44282862,\n",
       "       -0.18725241, -0.76564842,  0.50953444,  0.43350861,  0.99257427,\n",
       "       -1.4674609 ,  1.13004726,  0.04273493, -0.36412174, -0.76381619,\n",
       "        0.65651486, -1.11868753, -0.61604017, -0.04901414, -0.49528576,\n",
       "       -0.11407693, -1.18471136, -0.40795864, -0.95969226, -0.14125065,\n",
       "       -0.15621906, -0.6547136 ,  1.80871841,  0.39133854, -0.5791632 ,\n",
       "       -0.126579  ,  0.35961965, -1.35633122, -0.327039  ,  1.13874228,\n",
       "       -0.06351799,  1.22650691, -1.04565748,  0.95106024,  1.31449125,\n",
       "        0.89048271,  0.23549265,  0.7855637 , -0.8443416 ,  1.48188324,\n",
       "        0.58918465,  0.91127958,  0.03553821, -0.76142322, -0.45611724,\n",
       "        1.40209507, -2.59391024,  1.04350058,  1.54762045, -1.99562998,\n",
       "        0.08515594,  0.17892973,  0.5503958 , -0.55651521, -0.98152881,\n",
       "       -0.46245752,  1.08852779,  2.57736179, -1.13800286, -1.3066152 ,\n",
       "       -0.51208145, -0.58626261, -1.39945229, -0.25214382,  0.8050615 ,\n",
       "       -0.01524779,  1.19232052, -1.50804449, -0.60111758,  0.30834425,\n",
       "        1.29772517,  1.55335733,  1.68084084,  0.03820604,  0.38561544,\n",
       "       -0.38191887, -0.14645598,  1.64697212, -0.58023482,  0.12092108,\n",
       "        0.1004857 ,  0.54477612,  0.5410371 , -0.974753  , -1.31143105,\n",
       "        0.72386839, -1.54912313, -1.07260003,  1.47344399, -0.25364786,\n",
       "        0.77636104,  2.02260502,  0.5537227 , -1.25452138, -0.06465972,\n",
       "       -1.5600121 ,  0.7621591 , -0.50068387,  0.69136444, -0.75175561,\n",
       "       -1.67512076, -1.60168368, -0.12167634,  0.18151248, -1.67526684,\n",
       "        0.26534126, -1.76151047,  0.03368277,  1.66348874,  0.64586492,\n",
       "        0.38131218,  0.52820351,  0.33092913, -2.64155378,  1.18650082,\n",
       "        0.74599585, -0.64215544,  0.21173096, -1.99193934, -0.36479624,\n",
       "        0.05309059, -0.8716657 , -0.04516609, -0.27353307, -0.15124074,\n",
       "       -0.20302493, -0.10337463, -0.51182239,  0.29223622,  0.82041897,\n",
       "       -0.85122624,  0.91169157, -0.48282275, -0.68010037, -0.73757243,\n",
       "        0.33605306,  0.07684212, -0.98363937, -0.98218733,  0.5967597 ,\n",
       "        0.69356345, -0.28885008,  2.5123696 ,  0.74140821, -2.07047055,\n",
       "       -1.96688449,  0.23645345, -1.2467426 , -0.58213711, -1.32763124,\n",
       "        1.2414016 ,  1.60514603,  1.62978282,  0.06319754,  1.38942518,\n",
       "       -0.89661331,  1.27246533, -0.37801862, -0.2808595 , -0.51790439,\n",
       "        0.63276385, -0.11471951, -0.2877595 ,  1.93424502, -0.83329194,\n",
       "        0.04412687, -1.38338113, -1.88609214,  2.0460754 ,  0.84903499,\n",
       "        1.32220342, -0.94960308, -1.23221552,  0.24610863,  1.5461176 ,\n",
       "       -0.5105311 ,  0.9565109 ,  1.07257852,  1.14712276,  1.0747326 ,\n",
       "       -0.73523512, -1.59680999, -1.33485649, -1.0100427 ,  0.06141407,\n",
       "       -0.13585603,  0.92000419, -0.18938883, -1.17399415, -1.42206598,\n",
       "        0.37172976, -0.77136448, -0.75112866,  1.28369161,  0.14241933,\n",
       "        0.57180417,  0.25572259,  1.09135489,  0.41365325,  0.23575784,\n",
       "        0.78362756, -0.68759654, -0.11419532, -1.60416141,  0.93444745,\n",
       "       -0.47465505,  0.50029683,  0.74652562,  0.83882239, -0.42794983,\n",
       "       -1.74262542,  0.81301802,  0.70406405, -1.06250274,  0.12387987,\n",
       "        1.4418331 , -0.12798285, -0.07570598, -0.09956112,  0.07581264,\n",
       "        1.02134659,  1.02825223, -0.42354618, -0.79185457,  0.31633283,\n",
       "       -0.37542088, -2.11373094, -0.81191273,  0.56620637, -0.17716042,\n",
       "        0.66113096, -1.08774053, -0.0130645 ,  0.44774069,  0.15751889,\n",
       "        1.51639082, -0.03323809,  0.13864603,  1.18636613,  1.05596973,\n",
       "        1.08674691, -0.64888768,  1.73453982, -0.36638343, -0.82675598,\n",
       "       -0.11212109, -1.55904807, -1.20969789,  0.30474334,  0.81236981,\n",
       "       -0.67621476, -0.58839921,  0.04863318,  1.85257944,  0.00482786,\n",
       "       -0.57705928, -0.57685774,  0.60659455,  1.0355142 , -0.36743812,\n",
       "       -0.01412693,  1.31021261,  0.7621952 , -0.46341811,  0.38787437,\n",
       "        0.25042426,  0.44114028,  1.80264307, -1.10946323,  0.32645467,\n",
       "       -1.2591195 ,  0.05329717, -0.01794327, -0.01907233, -1.14759517,\n",
       "       -1.25209034, -1.28408895,  1.37128641,  0.8316404 ,  1.64496621,\n",
       "       -0.29476813, -0.21320397, -0.53350685, -0.93152108, -0.83505551,\n",
       "        0.32601017, -0.06655551,  0.25980566,  1.53743677,  1.09049788,\n",
       "       -0.05788453,  2.38065891,  2.59692842, -1.33088324,  1.55912448,\n",
       "       -2.21782239,  0.72380498,  1.29342724,  0.6358533 ,  0.64803654,\n",
       "       -1.13601681,  0.24784739,  0.94029676, -0.67976705, -0.53433465,\n",
       "       -0.03129897, -1.29522587,  0.15150741,  0.27817029,  2.62241926,\n",
       "        0.14106231,  1.01181874, -1.60659342,  0.00572493,  0.96051908,\n",
       "       -0.28681743, -1.46654194, -0.60574798,  1.14838289, -0.63117824,\n",
       "        0.04649203, -0.48580768,  0.67016961,  1.94786501,  1.90688305,\n",
       "       -0.52882393,  0.68439794, -0.5911884 , -0.55272628, -1.45138834,\n",
       "        0.89163952, -0.22277752,  0.63874167, -1.14565049,  0.445111  ,\n",
       "       -0.04159345,  1.0080121 ,  0.52164029, -0.79755476,  0.12186539,\n",
       "        1.59990592, -1.16385093, -1.10957514, -0.02638053, -0.56358204,\n",
       "        1.11541852,  1.21348778,  0.92799405,  1.06945999,  0.64920729,\n",
       "        1.28985525, -0.26535454, -2.69914147, -0.73849629, -0.56463172,\n",
       "        1.06279966,  1.93297749,  1.23731215, -0.78719988, -1.23847999])"
      ]
     },
     "execution_count": 47,
     "metadata": {},
     "output_type": "execute_result"
    }
   ],
   "source": [
    "d_dict"
   ]
  },
  {
   "cell_type": "code",
   "execution_count": 42,
   "metadata": {},
   "outputs": [],
   "source": [
    "import matplotlib.pyplot as plt"
   ]
  },
  {
   "cell_type": "code",
   "execution_count": 45,
   "metadata": {
    "collapsed": true,
    "jupyter": {
     "outputs_hidden": true
    }
   },
   "outputs": [
    {
     "data": {
      "text/plain": [
       "(array([ 12.,  32.,  88., 155., 178., 216., 161.,  98.,  43.,  17.]),\n",
       " array([-2.69914147, -2.16698539, -1.63482932, -1.10267325, -0.57051717,\n",
       "        -0.0383611 ,  0.49379497,  1.02595104,  1.55810712,  2.09026319,\n",
       "         2.62241926]),\n",
       " <a list of 10 Patch objects>)"
      ]
     },
     "execution_count": 45,
     "metadata": {},
     "output_type": "execute_result"
    },
    {
     "data": {
      "image/png": "[encoded data removed]",
      "text/plain": [
       "<Figure size 432x288 with 1 Axes>"
      ]
     },
     "metadata": {
      "needs_background": "light"
     },
     "output_type": "display_data"
    }
   ],
   "source": [
    "plt.hist(d_dict)"
   ]
  },
  {
   "cell_type": "code",
   "execution_count": 46,
   "metadata": {
    "collapsed": true,
    "jupyter": {
     "outputs_hidden": true
    }
   },
   "outputs": [
    {
     "data": {
      "text/plain": [
       "(array([ 4.,  2.,  0.,  0.,  2.,  4.,  1.,  6.,  3.,  8.,  8.,  6., 13.,\n",
       "        11., 10., 23., 14., 17., 19., 30., 15., 34., 27., 30., 29., 20.,\n",
       "        26., 34., 32., 37., 36., 30., 36., 43., 41., 30., 28., 31., 33.,\n",
       "        25., 22., 22., 28., 20., 22.,  8., 10., 10., 11.,  6.,  8.,  5.,\n",
       "         7.,  6.,  6.,  0.,  1.,  4.,  2.,  4.]),\n",
       " array([-2.69914147, -2.61044879, -2.52175611, -2.43306343, -2.34437075,\n",
       "        -2.25567807, -2.16698539, -2.07829271, -1.98960004, -1.90090736,\n",
       "        -1.81221468, -1.723522  , -1.63482932, -1.54613664, -1.45744396,\n",
       "        -1.36875128, -1.2800586 , -1.19136593, -1.10267325, -1.01398057,\n",
       "        -0.92528789, -0.83659521, -0.74790253, -0.65920985, -0.57051717,\n",
       "        -0.4818245 , -0.39313182, -0.30443914, -0.21574646, -0.12705378,\n",
       "        -0.0383611 ,  0.05033158,  0.13902426,  0.22771694,  0.31640961,\n",
       "         0.40510229,  0.49379497,  0.58248765,  0.67118033,  0.75987301,\n",
       "         0.84856569,  0.93725837,  1.02595104,  1.11464372,  1.2033364 ,\n",
       "         1.29202908,  1.38072176,  1.46941444,  1.55810712,  1.6467998 ,\n",
       "         1.73549248,  1.82418515,  1.91287783,  2.00157051,  2.09026319,\n",
       "         2.17895587,  2.26764855,  2.35634123,  2.44503391,  2.53372658,\n",
       "         2.62241926]),\n",
       " <a list of 60 Patch objects>)"
      ]
     },
     "execution_count": 46,
     "metadata": {},
     "output_type": "execute_result"
    },
    {
     "data": {
      "image/png": "[encoded data removed]",
      "text/plain": [
       "<Figure size 432x288 with 1 Axes>"
      ]
     },
     "metadata": {
      "needs_background": "light"
     },
     "output_type": "display_data"
    }
   ],
   "source": [
    "plt.hist(d_dict, bins=60)"
   ]
  },
  {
   "cell_type": "code",
   "execution_count": 48,
   "metadata": {},
   "outputs": [],
   "source": [
    "import seaborn as sns"
   ]
  },
  {
   "cell_type": "code",
   "execution_count": 49,
   "metadata": {
    "collapsed": true,
    "jupyter": {
     "outputs_hidden": true
    }
   },
   "outputs": [
    {
     "data": {
      "text/plain": [
       "<matplotlib.axes._subplots.AxesSubplot at 0x126b10470>"
      ]
     },
     "execution_count": 49,
     "metadata": {},
     "output_type": "execute_result"
    },
    {
     "data": {
      "image/png": "[encoded data removed]",
      "text/plain": [
       "<Figure size 432x288 with 1 Axes>"
      ]
     },
     "metadata": {
      "needs_background": "light"
     },
     "output_type": "display_data"
    }
   ],
   "source": [
    "sns.distplot(d_dict)"
   ]
  },
  {
   "cell_type": "code",
   "execution_count": null,
   "metadata": {},
   "outputs": [],
   "source": [
    "import pandas as pd"
   ]
  },
  {
   "cell_type": "code",
   "execution_count": 50,
   "metadata": {},
   "outputs": [],
   "source": [
    "e_dict = pd.DataFrame(np.random.normal(0,1,50).reshape(5,10))"
   ]
  },
  {
   "cell_type": "code",
   "execution_count": 51,
   "metadata": {
    "collapsed": true,
    "jupyter": {
     "outputs_hidden": true
    }
   },
   "outputs": [
    {
     "data": {
      "text/html": [
       "<div>\n",
       "<style scoped>\n",
       "    .dataframe tbody tr th:only-of-type {\n",
       "        vertical-align: middle;\n",
       "    }\n",
       "\n",
       "    .dataframe tbody tr th {\n",
       "        vertical-align: top;\n",
       "    }\n",
       "\n",
       "    .dataframe thead th {\n",
       "        text-align: right;\n",
       "    }\n",
       "</style>\n",
       "<table border=\"1\" class=\"dataframe\">\n",
       "  <thead>\n",
       "    <tr style=\"text-align: right;\">\n",
       "      <th></th>\n",
       "      <th>0</th>\n",
       "      <th>1</th>\n",
       "      <th>2</th>\n",
       "      <th>3</th>\n",
       "      <th>4</th>\n",
       "      <th>5</th>\n",
       "      <th>6</th>\n",
       "      <th>7</th>\n",
       "      <th>8</th>\n",
       "      <th>9</th>\n",
       "    </tr>\n",
       "  </thead>\n",
       "  <tbody>\n",
       "    <tr>\n",
       "      <th>0</th>\n",
       "      <td>-1.023979</td>\n",
       "      <td>-0.643026</td>\n",
       "      <td>-0.762272</td>\n",
       "      <td>0.437341</td>\n",
       "      <td>-1.101951</td>\n",
       "      <td>-0.312895</td>\n",
       "      <td>0.468966</td>\n",
       "      <td>-0.993892</td>\n",
       "      <td>2.689596</td>\n",
       "      <td>-1.173669</td>\n",
       "    </tr>\n",
       "    <tr>\n",
       "      <th>1</th>\n",
       "      <td>1.146956</td>\n",
       "      <td>-0.143689</td>\n",
       "      <td>-0.305562</td>\n",
       "      <td>-1.382223</td>\n",
       "      <td>0.287499</td>\n",
       "      <td>0.413246</td>\n",
       "      <td>0.522442</td>\n",
       "      <td>0.777572</td>\n",
       "      <td>0.426070</td>\n",
       "      <td>-1.189623</td>\n",
       "    </tr>\n",
       "    <tr>\n",
       "      <th>2</th>\n",
       "      <td>-0.219038</td>\n",
       "      <td>0.124070</td>\n",
       "      <td>-1.025637</td>\n",
       "      <td>-0.315728</td>\n",
       "      <td>0.093982</td>\n",
       "      <td>0.348816</td>\n",
       "      <td>0.878171</td>\n",
       "      <td>-0.186450</td>\n",
       "      <td>-0.399514</td>\n",
       "      <td>-0.398018</td>\n",
       "    </tr>\n",
       "    <tr>\n",
       "      <th>3</th>\n",
       "      <td>0.756821</td>\n",
       "      <td>1.681033</td>\n",
       "      <td>-2.621887</td>\n",
       "      <td>0.582808</td>\n",
       "      <td>0.459118</td>\n",
       "      <td>-0.411629</td>\n",
       "      <td>-1.772402</td>\n",
       "      <td>-1.170532</td>\n",
       "      <td>0.876099</td>\n",
       "      <td>0.733787</td>\n",
       "    </tr>\n",
       "    <tr>\n",
       "      <th>4</th>\n",
       "      <td>-0.079660</td>\n",
       "      <td>-0.779925</td>\n",
       "      <td>0.051670</td>\n",
       "      <td>-0.316318</td>\n",
       "      <td>-0.032802</td>\n",
       "      <td>-0.397844</td>\n",
       "      <td>0.849149</td>\n",
       "      <td>0.553347</td>\n",
       "      <td>0.691664</td>\n",
       "      <td>-0.320562</td>\n",
       "    </tr>\n",
       "  </tbody>\n",
       "</table>\n",
       "</div>"
      ],
      "text/plain": [
       "          0         1         2         3         4         5         6  \\\n",
       "0 -1.023979 -0.643026 -0.762272  0.437341 -1.101951 -0.312895  0.468966   \n",
       "1  1.146956 -0.143689 -0.305562 -1.382223  0.287499  0.413246  0.522442   \n",
       "2 -0.219038  0.124070 -1.025637 -0.315728  0.093982  0.348816  0.878171   \n",
       "3  0.756821  1.681033 -2.621887  0.582808  0.459118 -0.411629 -1.772402   \n",
       "4 -0.079660 -0.779925  0.051670 -0.316318 -0.032802 -0.397844  0.849149   \n",
       "\n",
       "          7         8         9  \n",
       "0 -0.993892  2.689596 -1.173669  \n",
       "1  0.777572  0.426070 -1.189623  \n",
       "2 -0.186450 -0.399514 -0.398018  \n",
       "3 -1.170532  0.876099  0.733787  \n",
       "4  0.553347  0.691664 -0.320562  "
      ]
     },
     "execution_count": 51,
     "metadata": {},
     "output_type": "execute_result"
    }
   ],
   "source": [
    "e_dict"
   ]
  },
  {
   "cell_type": "code",
   "execution_count": 63,
   "metadata": {},
   "outputs": [],
   "source": [
    "e_dict = pd.DataFrame(np.random.normal(0,1,50).reshape(5,10), \n",
    "                     columns = list('abcdefghij'))"
   ]
  },
  {
   "cell_type": "code",
   "execution_count": 64,
   "metadata": {
    "collapsed": true,
    "jupyter": {
     "outputs_hidden": true
    }
   },
   "outputs": [
    {
     "data": {
      "text/html": [
       "<div>\n",
       "<style scoped>\n",
       "    .dataframe tbody tr th:only-of-type {\n",
       "        vertical-align: middle;\n",
       "    }\n",
       "\n",
       "    .dataframe tbody tr th {\n",
       "        vertical-align: top;\n",
       "    }\n",
       "\n",
       "    .dataframe thead th {\n",
       "        text-align: right;\n",
       "    }\n",
       "</style>\n",
       "<table border=\"1\" class=\"dataframe\">\n",
       "  <thead>\n",
       "    <tr style=\"text-align: right;\">\n",
       "      <th></th>\n",
       "      <th>a</th>\n",
       "      <th>b</th>\n",
       "      <th>c</th>\n",
       "      <th>d</th>\n",
       "      <th>e</th>\n",
       "      <th>f</th>\n",
       "      <th>g</th>\n",
       "      <th>h</th>\n",
       "      <th>i</th>\n",
       "      <th>j</th>\n",
       "    </tr>\n",
       "  </thead>\n",
       "  <tbody>\n",
       "    <tr>\n",
       "      <th>0</th>\n",
       "      <td>0.926521</td>\n",
       "      <td>-1.840652</td>\n",
       "      <td>0.104781</td>\n",
       "      <td>0.361694</td>\n",
       "      <td>-0.855311</td>\n",
       "      <td>-0.503888</td>\n",
       "      <td>-1.550076</td>\n",
       "      <td>0.988409</td>\n",
       "      <td>1.247675</td>\n",
       "      <td>-0.558508</td>\n",
       "    </tr>\n",
       "    <tr>\n",
       "      <th>1</th>\n",
       "      <td>0.204793</td>\n",
       "      <td>0.027609</td>\n",
       "      <td>-0.342602</td>\n",
       "      <td>-0.232075</td>\n",
       "      <td>0.740870</td>\n",
       "      <td>1.158851</td>\n",
       "      <td>-0.151895</td>\n",
       "      <td>-1.849765</td>\n",
       "      <td>-1.413225</td>\n",
       "      <td>0.202785</td>\n",
       "    </tr>\n",
       "    <tr>\n",
       "      <th>2</th>\n",
       "      <td>0.571740</td>\n",
       "      <td>1.859344</td>\n",
       "      <td>-0.230095</td>\n",
       "      <td>2.381740</td>\n",
       "      <td>0.917507</td>\n",
       "      <td>-1.332285</td>\n",
       "      <td>-1.213255</td>\n",
       "      <td>-0.918833</td>\n",
       "      <td>0.052586</td>\n",
       "      <td>-0.073605</td>\n",
       "    </tr>\n",
       "    <tr>\n",
       "      <th>3</th>\n",
       "      <td>-0.564647</td>\n",
       "      <td>-0.726686</td>\n",
       "      <td>-0.868715</td>\n",
       "      <td>-0.710287</td>\n",
       "      <td>0.691907</td>\n",
       "      <td>-0.635237</td>\n",
       "      <td>0.324487</td>\n",
       "      <td>-0.432208</td>\n",
       "      <td>-1.485592</td>\n",
       "      <td>-1.620347</td>\n",
       "    </tr>\n",
       "    <tr>\n",
       "      <th>4</th>\n",
       "      <td>1.011635</td>\n",
       "      <td>-2.208237</td>\n",
       "      <td>-0.654243</td>\n",
       "      <td>-0.532384</td>\n",
       "      <td>0.319520</td>\n",
       "      <td>1.024405</td>\n",
       "      <td>-1.691915</td>\n",
       "      <td>1.964707</td>\n",
       "      <td>0.637510</td>\n",
       "      <td>0.073908</td>\n",
       "    </tr>\n",
       "  </tbody>\n",
       "</table>\n",
       "</div>"
      ],
      "text/plain": [
       "          a         b         c         d         e         f         g  \\\n",
       "0  0.926521 -1.840652  0.104781  0.361694 -0.855311 -0.503888 -1.550076   \n",
       "1  0.204793  0.027609 -0.342602 -0.232075  0.740870  1.158851 -0.151895   \n",
       "2  0.571740  1.859344 -0.230095  2.381740  0.917507 -1.332285 -1.213255   \n",
       "3 -0.564647 -0.726686 -0.868715 -0.710287  0.691907 -0.635237  0.324487   \n",
       "4  1.011635 -2.208237 -0.654243 -0.532384  0.319520  1.024405 -1.691915   \n",
       "\n",
       "          h         i         j  \n",
       "0  0.988409  1.247675 -0.558508  \n",
       "1 -1.849765 -1.413225  0.202785  \n",
       "2 -0.918833  0.052586 -0.073605  \n",
       "3 -0.432208 -1.485592 -1.620347  \n",
       "4  1.964707  0.637510  0.073908  "
      ]
     },
     "execution_count": 64,
     "metadata": {},
     "output_type": "execute_result"
    }
   ],
   "source": [
    "e_dict"
   ]
  },
  {
   "cell_type": "code",
   "execution_count": 72,
   "metadata": {
    "collapsed": true,
    "jupyter": {
     "outputs_hidden": true
    }
   },
   "outputs": [
    {
     "data": {
      "text/plain": [
       "[<matplotlib.lines.Line2D at 0x1a2a964208>,\n",
       " <matplotlib.lines.Line2D at 0x1a2a964358>]"
      ]
     },
     "execution_count": 72,
     "metadata": {},
     "output_type": "execute_result"
    },
    {
     "data": {
      "image/png": "[encoded data removed]",
      "text/plain": [
       "<Figure size 432x288 with 1 Axes>"
      ]
     },
     "metadata": {
      "needs_background": "light"
     },
     "output_type": "display_data"
    }
   ],
   "source": [
    "plt.plot(e_dict[['a', 'b']].cumsum(), '-.')"
   ]
  },
  {
   "cell_type": "markdown",
   "metadata": {},
   "source": [
    "# 练习：建一个dataframe，并以图形呈现"
   ]
  },
  {
   "cell_type": "code",
   "execution_count": null,
   "metadata": {},
   "outputs": [],
   "source": []
  }
 ],
 "metadata": {
  "kernelspec": {
   "display_name": "Python 3",
   "language": "python",
   "name": "python3"
  },
  "language_info": {
   "codemirror_mode": {
    "name": "ipython",
    "version": 3
   },
   "file_extension": ".py",
   "mimetype": "text/x-python",
   "name": "python",
   "nbconvert_exporter": "python",
   "pygments_lexer": "ipython3",
   "version": "3.7.3"
  }
 },
 "nbformat": 4,
 "nbformat_minor": 4
}
